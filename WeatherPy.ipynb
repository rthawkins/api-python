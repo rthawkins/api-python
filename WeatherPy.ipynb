{
 "cells": [
  {
   "cell_type": "markdown",
   "metadata": {},
   "source": [
    "# WeatherPy\n",
    "----"
   ]
  },
  {
   "cell_type": "code",
   "execution_count": 1,
   "metadata": {
    "ExecuteTime": {
     "end_time": "2019-09-24T22:35:42.331753Z",
     "start_time": "2019-09-24T22:35:36.930591Z"
    }
   },
   "outputs": [
    {
     "name": "stdout",
     "output_type": "stream",
     "text": [
      "Requirement already satisfied: citipy in c:\\users\\robin\\anaconda3\\lib\\site-packages (0.0.5)\n",
      "Requirement already satisfied: kdtree>=0.12 in c:\\users\\robin\\anaconda3\\lib\\site-packages (from citipy) (0.16)\n",
      "Note: you may need to restart the kernel to use updated packages.\n"
     ]
    }
   ],
   "source": [
    "pip install citipy"
   ]
  },
  {
   "cell_type": "code",
   "execution_count": 14,
   "metadata": {
    "ExecuteTime": {
     "end_time": "2019-09-24T22:47:43.535521Z",
     "start_time": "2019-09-24T22:47:43.527519Z"
    },
    "scrolled": true
   },
   "outputs": [],
   "source": [
    "# Dependencies and Setup\n",
    "import matplotlib.pyplot as plt\n",
    "import pandas as pd\n",
    "import numpy as np\n",
    "import requests\n",
    "import time\n",
    "from scipy import stats\n",
    "from scipy.stats import linregress\n",
    "\n",
    "# Import API key\n",
    "from api_keys import weather_api_key\n",
    "\n",
    "# Incorporated citipy to determine city based on latitude and longitude\n",
    "from citipy import citipy\n",
    "\n",
    "# Output File (CSV)\n",
    "output_data_file = \"output_data/cities.csv\"\n",
    "\n",
    "# Range of latitudes and longitudes\n",
    "lat_range = (-90, 90)\n",
    "lng_range = (-180, 180)\n",
    "\n",
    "url = \"https://api.openweathermap.org/data/2.5/weather?q=\""
   ]
  },
  {
   "cell_type": "markdown",
   "metadata": {},
   "source": [
    "## Generate Cities List"
   ]
  },
  {
   "cell_type": "code",
   "execution_count": 3,
   "metadata": {
    "ExecuteTime": {
     "end_time": "2019-09-24T22:36:07.886411Z",
     "start_time": "2019-09-24T22:36:06.168291Z"
    }
   },
   "outputs": [
    {
     "data": {
      "text/plain": [
       "605"
      ]
     },
     "execution_count": 3,
     "metadata": {},
     "output_type": "execute_result"
    }
   ],
   "source": [
    "# List for holding lat_lngs and cities\n",
    "lat_lngs = []\n",
    "cities = []\n",
    "\n",
    "# Create a set of random lat and lng combinations\n",
    "lats = np.random.uniform(low=-90.000, high=90.000, size=1500)\n",
    "lngs = np.random.uniform(low=-180.000, high=180.000, size=1500)\n",
    "lat_lngs = zip(lats, lngs)\n",
    "\n",
    "# Identify nearest city for each lat, lng combination\n",
    "for lat_lng in lat_lngs:\n",
    "    city = citipy.nearest_city(lat_lng[0], lat_lng[1]).city_name\n",
    "    \n",
    "    # If the city is unique, then add it to a our cities list\n",
    "    if city not in cities:\n",
    "        cities.append(city)\n",
    "\n",
    "# Print the city count to confirm sufficient count\n",
    "len(cities)"
   ]
  },
  {
   "cell_type": "code",
   "execution_count": 4,
   "metadata": {
    "ExecuteTime": {
     "end_time": "2019-09-24T22:36:09.540204Z",
     "start_time": "2019-09-24T22:36:09.525186Z"
    }
   },
   "outputs": [
    {
     "data": {
      "text/plain": [
       "['faya',\n",
       " 'yellowknife',\n",
       " 'hilo',\n",
       " 'ushuaia',\n",
       " 'chuy',\n",
       " 'nemuro',\n",
       " 'kalmunai',\n",
       " 'yulara',\n",
       " 'pandamatenga',\n",
       " 'georgetown',\n",
       " 'attawapiskat',\n",
       " 'xai-xai',\n",
       " 'atuona',\n",
       " 'jamestown',\n",
       " 'provideniya',\n",
       " 'rikitea',\n",
       " 'souillac',\n",
       " 'gasa',\n",
       " 'kutum',\n",
       " 'iqaluit',\n",
       " 'khatanga',\n",
       " 'kapaa',\n",
       " 'mahebourg',\n",
       " 'castro',\n",
       " 'tasiilaq',\n",
       " 'sentyabrskiy',\n",
       " 'grand river south east',\n",
       " 'tidore',\n",
       " 'vanino',\n",
       " 'wad rawah',\n",
       " 'busselton',\n",
       " 'punta arenas',\n",
       " 'cape town',\n",
       " 'lebu',\n",
       " 'dinsor',\n",
       " 'butaritari',\n",
       " 'pangnirtung',\n",
       " 'mataura',\n",
       " 'sibu',\n",
       " 'saint-joseph',\n",
       " 'narsaq',\n",
       " 'amnat charoen',\n",
       " 'avarua',\n",
       " 'sitka',\n",
       " 'benghazi',\n",
       " 'nosy varika',\n",
       " 'aranjuez',\n",
       " 'nikolskoye',\n",
       " 'kodiak',\n",
       " 'bethel',\n",
       " 'leningradskiy',\n",
       " 'kedougou',\n",
       " 'sistranda',\n",
       " 'lokosovo',\n",
       " 'jiddah',\n",
       " 'airai',\n",
       " 'hobart',\n",
       " 'baltay',\n",
       " 'kargasok',\n",
       " 'samarai',\n",
       " 'barra do garcas',\n",
       " 'klaksvik',\n",
       " 'vila',\n",
       " 'rantoul',\n",
       " 'east london',\n",
       " 'cumaribo',\n",
       " 'port alfred',\n",
       " 'cabo san lucas',\n",
       " 'saint george',\n",
       " 'carnarvon',\n",
       " 'mapimi',\n",
       " 'tabas',\n",
       " 'albany',\n",
       " 'touros',\n",
       " 'chaochou',\n",
       " 'wonthaggi',\n",
       " 'sarangani',\n",
       " 'beringovskiy',\n",
       " 'puerto ayora',\n",
       " 'sikonge',\n",
       " 'san andres',\n",
       " 'lorengau',\n",
       " 'burns lake',\n",
       " 'new norfolk',\n",
       " 'qaanaaq',\n",
       " 'norman wells',\n",
       " 'nordenham',\n",
       " 'moron',\n",
       " 'mar del plata',\n",
       " 'porto novo',\n",
       " 'illoqqortoormiut',\n",
       " 'esperance',\n",
       " 'dalbandin',\n",
       " 'alagoinha',\n",
       " 'maralal',\n",
       " 'pochutla',\n",
       " 'sao filipe',\n",
       " 'vaini',\n",
       " 'yerbogachen',\n",
       " 'hermanus',\n",
       " 'kita',\n",
       " 'araci',\n",
       " 'okahandja',\n",
       " 'katherine',\n",
       " 'tuktoyaktuk',\n",
       " 'puerto narino',\n",
       " 'pisco',\n",
       " 'iracoubo',\n",
       " 'dingle',\n",
       " 'dikson',\n",
       " 'amderma',\n",
       " 'ponta do sol',\n",
       " 'isangel',\n",
       " 'katsuura',\n",
       " 'alofi',\n",
       " 'marrakesh',\n",
       " 'borogontsy',\n",
       " 'broken hill',\n",
       " 'zeya',\n",
       " 'saint-philippe',\n",
       " 'tomatlan',\n",
       " 'burgeo',\n",
       " 'krasnoselkup',\n",
       " 'haines junction',\n",
       " 'puri',\n",
       " 'katsina',\n",
       " 'santa clara',\n",
       " 'grindavik',\n",
       " 'tumannyy',\n",
       " 'santa teresa',\n",
       " 'vostok',\n",
       " 'zyryanka',\n",
       " 'quincy',\n",
       " 'ribeira grande',\n",
       " 'gazanjyk',\n",
       " 'lagoa',\n",
       " 'port-gentil',\n",
       " 'banjar',\n",
       " 'dzhusaly',\n",
       " 'saint-augustin',\n",
       " 'ixtapa',\n",
       " 'mudgee',\n",
       " 'barentsburg',\n",
       " 'bluff',\n",
       " 'belushya guba',\n",
       " 'chicama',\n",
       " 'tsihombe',\n",
       " 'kirkuk',\n",
       " 'luau',\n",
       " 'kaitangata',\n",
       " 'wasilla',\n",
       " 'bredasdorp',\n",
       " 'kizema',\n",
       " 'lata',\n",
       " 'torbay',\n",
       " 'port elizabeth',\n",
       " 'alekseyevsk',\n",
       " 'guerrero negro',\n",
       " 'bolshoy tsaryn',\n",
       " 'berlevag',\n",
       " 'marystown',\n",
       " 'mirina',\n",
       " 'belmonte',\n",
       " 'clyde river',\n",
       " 'mount gambier',\n",
       " 'yebaishou',\n",
       " 'jodiya',\n",
       " 'uvat',\n",
       " 'rincon',\n",
       " 'fort nelson',\n",
       " 'bon accord',\n",
       " 'severo-kurilsk',\n",
       " 'niceville',\n",
       " 'qasigiannguit',\n",
       " 'ouadda',\n",
       " 'padre paraiso',\n",
       " 'tiksi',\n",
       " 'hithadhoo',\n",
       " 'dicabisagan',\n",
       " 'bilibino',\n",
       " 'savannah bight',\n",
       " 'bur gabo',\n",
       " 'santiago del estero',\n",
       " 'taolanaro',\n",
       " 'hurghada',\n",
       " 'nanakuli',\n",
       " 'aberdeen',\n",
       " 'vestmannaeyjar',\n",
       " 'fort saint john',\n",
       " 'padang',\n",
       " 'xining',\n",
       " 'upernavik',\n",
       " 'tenango',\n",
       " 'victoria',\n",
       " 'veraval',\n",
       " 'pitimbu',\n",
       " 'tupik',\n",
       " 'bandarbeyla',\n",
       " 'auki',\n",
       " 'kisanga',\n",
       " 'riga',\n",
       " 'hoxter',\n",
       " 'san quintin',\n",
       " 'balkhash',\n",
       " 'zhigansk',\n",
       " 'kruisfontein',\n",
       " 'rio grande',\n",
       " 'lufilufi',\n",
       " 'codrington',\n",
       " 'leshukonskoye',\n",
       " 'arraial do cabo',\n",
       " 'ciudad bolivar',\n",
       " 'samatau',\n",
       " 'san ramon',\n",
       " 'kamenskoye',\n",
       " 'nanortalik',\n",
       " 'kuah',\n",
       " 'oranjemund',\n",
       " 'makat',\n",
       " 'batemans bay',\n",
       " 'broome',\n",
       " 'srednekolymsk',\n",
       " 'luderitz',\n",
       " 'ayan',\n",
       " 'montrose',\n",
       " 'maningrida',\n",
       " 'vila velha',\n",
       " 'popondetta',\n",
       " 'buala',\n",
       " 'tual',\n",
       " 'beyneu',\n",
       " 'baykit',\n",
       " 'tshikapa',\n",
       " 'nome',\n",
       " 'akdepe',\n",
       " 'sayyan',\n",
       " 'siguiri',\n",
       " 'teresina',\n",
       " 'topeka',\n",
       " 'byron bay',\n",
       " 'etchoropo',\n",
       " 'shibata',\n",
       " 'talnakh',\n",
       " 'sur',\n",
       " 'labuhan',\n",
       " 'wakkanai',\n",
       " 'wodonga',\n",
       " 'bambous virieux',\n",
       " 'kungurtug',\n",
       " 'toora-khem',\n",
       " 'olinda',\n",
       " 'perleberg',\n",
       " 'pemex',\n",
       " 'varzea grande',\n",
       " 'dunedin',\n",
       " 'cidreira',\n",
       " 'pevek',\n",
       " 'kingsville',\n",
       " 'medeiros neto',\n",
       " 'korhogo',\n",
       " 'zharkent',\n",
       " 'hostotipaquillo',\n",
       " 'santana',\n",
       " 'paso de carrasco',\n",
       " 'humaita',\n",
       " 'coihaique',\n",
       " 'utinga',\n",
       " 'catalao',\n",
       " 'egvekinot',\n",
       " 'skjaerhollen',\n",
       " 'nieves',\n",
       " 'umm lajj',\n",
       " 'ribeirao branco',\n",
       " 'ninohe',\n",
       " 'barrow',\n",
       " 'shahpura',\n",
       " 'sinnai',\n",
       " 'casa nova',\n",
       " 'tianpeng',\n",
       " 'constitucion',\n",
       " 'gold coast',\n",
       " 'margate',\n",
       " 'westport',\n",
       " 'ribita',\n",
       " 'losal',\n",
       " 'thompson',\n",
       " 'teneguiban',\n",
       " 'wajir',\n",
       " 'saskylakh',\n",
       " 'mogochin',\n",
       " 'ilulissat',\n",
       " 'mao',\n",
       " 'moussoro',\n",
       " 'peniche',\n",
       " 'henties bay',\n",
       " 'gongzhuling',\n",
       " 'srandakan',\n",
       " 'longyearbyen',\n",
       " 'kangaatsiaq',\n",
       " 'toamasina',\n",
       " 'cockburn town',\n",
       " 'salalah',\n",
       " 'ambon',\n",
       " 'stykkisholmur',\n",
       " 'saleaula',\n",
       " 'prince rupert',\n",
       " 'atar',\n",
       " 'lasa',\n",
       " 'cravo norte',\n",
       " 'katobu',\n",
       " 'geraldton',\n",
       " 'bagdarin',\n",
       " 'grodkow',\n",
       " 'itupiranga',\n",
       " 'saint-pierre',\n",
       " 'baoying',\n",
       " 'laguna',\n",
       " 'amapa',\n",
       " 'ahipara',\n",
       " 'saint anthony',\n",
       " 'bowen',\n",
       " 'sodhra',\n",
       " 'slave lake',\n",
       " 'havre-saint-pierre',\n",
       " 'keningau',\n",
       " 'ahuimanu',\n",
       " 'richmond',\n",
       " 'ahumada',\n",
       " 'strelka',\n",
       " 'atambua',\n",
       " 'menongue',\n",
       " 'paarl',\n",
       " 'eureka',\n",
       " 'hambantota',\n",
       " 'ancud',\n",
       " 'macaboboni',\n",
       " 'bangui',\n",
       " 'manoel urbano',\n",
       " 'gandu',\n",
       " 'vardo',\n",
       " 'guymon',\n",
       " 'khasan',\n",
       " 'daru',\n",
       " 'asau',\n",
       " 'palu',\n",
       " 'candolim',\n",
       " 'zheleznodorozhnyy',\n",
       " 'nago',\n",
       " 'carroll',\n",
       " 'skagen',\n",
       " 'kiruna',\n",
       " 'aswan',\n",
       " 'hamilton',\n",
       " 'andra',\n",
       " 'chapais',\n",
       " 'weligama',\n",
       " 'dhule',\n",
       " 'flin flon',\n",
       " 'rocha',\n",
       " 'hamina',\n",
       " 'kununurra',\n",
       " 'pouebo',\n",
       " 'ariquemes',\n",
       " 'nizhneyansk',\n",
       " 'slantsy',\n",
       " 'kadhan',\n",
       " 'mizunami',\n",
       " 'along',\n",
       " 'bani',\n",
       " 'beisfjord',\n",
       " 'namatanai',\n",
       " 'samusu',\n",
       " 'brufut',\n",
       " 'abha',\n",
       " 'huilong',\n",
       " 'los llanos de aridane',\n",
       " 'lavrentiya',\n",
       " 'jumla',\n",
       " 'kavieng',\n",
       " 'bilma',\n",
       " 'huambo',\n",
       " 'motril',\n",
       " 'port lincoln',\n",
       " 'ati',\n",
       " 'gopalpur',\n",
       " 'phan rang',\n",
       " 'nijar',\n",
       " 'comodoro rivadavia',\n",
       " 'arlit',\n",
       " 'landerneau',\n",
       " 'cervo',\n",
       " 'mathbaria',\n",
       " 'palmer',\n",
       " 'neryungri',\n",
       " 'innisfail',\n",
       " 'pacific grove',\n",
       " 'flinders',\n",
       " 'mys shmidta',\n",
       " 'saldanha',\n",
       " 'lolua',\n",
       " 'rio muerto',\n",
       " 'belyy yar',\n",
       " 'manhattan',\n",
       " 'tabou',\n",
       " 'coquimbo',\n",
       " 'kiama',\n",
       " 'alyangula',\n",
       " 'lagunas',\n",
       " 'san policarpo',\n",
       " 'manokwari',\n",
       " 'yumen',\n",
       " 'kaspiysk',\n",
       " 'vila franca do campo',\n",
       " 'hami',\n",
       " 'santa maria',\n",
       " 'fortuna',\n",
       " 'emilio carranza',\n",
       " 'salina cruz',\n",
       " 'kaeo',\n",
       " 'makungu',\n",
       " 'chokurdakh',\n",
       " 'gorno-chuyskiy',\n",
       " 'elizabeth city',\n",
       " 'boyolangu',\n",
       " 'biggar',\n",
       " 'bandundu',\n",
       " 'tarudant',\n",
       " 'tambul',\n",
       " 'ulverstone',\n",
       " 'komsomolsk',\n",
       " 'tazovskiy',\n",
       " 'kysyl-syr',\n",
       " 'hofn',\n",
       " 'aryanah',\n",
       " 'polunochnoye',\n",
       " 'gashua',\n",
       " 'blois',\n",
       " 'angoche',\n",
       " 'berdigestyakh',\n",
       " 'san juan',\n",
       " 'megion',\n",
       " 'cotonou',\n",
       " 'san cristobal',\n",
       " 'meulaboh',\n",
       " 'maunabo',\n",
       " 'svetlogorsk',\n",
       " 'alice springs',\n",
       " 'linares',\n",
       " 'astana',\n",
       " 'beloha',\n",
       " 'marzuq',\n",
       " 'neuruppin',\n",
       " 'adrar',\n",
       " 'chagda',\n",
       " 'vanimo',\n",
       " 'vaitupu',\n",
       " 'aripuana',\n",
       " 'presidencia roque saenz pena',\n",
       " 'faanui',\n",
       " 'aklavik',\n",
       " 'labytnangi',\n",
       " 'guanica',\n",
       " 'nizhniy kuranakh',\n",
       " 'kailua',\n",
       " 'ostrovnoy',\n",
       " 'holme',\n",
       " 'jijiga',\n",
       " 'tura',\n",
       " 'navlya',\n",
       " 'kirkwall',\n",
       " 'marihatag',\n",
       " 'shemursha',\n",
       " 'donskoy',\n",
       " 'galgani',\n",
       " 'blackwater',\n",
       " 'waingapu',\n",
       " 'kadnikov',\n",
       " 'aracuai',\n",
       " 'atbasar',\n",
       " 'gillette',\n",
       " 'namanga',\n",
       " 'nador',\n",
       " 'tarazona',\n",
       " 'mmabatho',\n",
       " 'itapaci',\n",
       " 'aldan',\n",
       " 'camana',\n",
       " 'chilca',\n",
       " 'shingu',\n",
       " 'kindu',\n",
       " 'huarmey',\n",
       " 'kushmurun',\n",
       " 'altay',\n",
       " 'ambodifototra',\n",
       " 'lahaina',\n",
       " 'tamboril',\n",
       " 'cabedelo',\n",
       " 'bereda',\n",
       " 'kamenka',\n",
       " 'port hedland',\n",
       " 'temaraia',\n",
       " 'bugene',\n",
       " 'mitsamiouli',\n",
       " 'labuan',\n",
       " 'bathsheba',\n",
       " 'itamarandiba',\n",
       " 'husavik',\n",
       " 'pontianak',\n",
       " 'oktyabrskoye',\n",
       " 'cherskiy',\n",
       " 'dianopolis',\n",
       " 'jomalig',\n",
       " 'kenai',\n",
       " 'colorado springs',\n",
       " 'matara',\n",
       " 'novaya ladoga',\n",
       " 'erdenet',\n",
       " 'ust-nera',\n",
       " 'miri',\n",
       " 'coahuayana',\n",
       " 'wattegama',\n",
       " 'kolyshley',\n",
       " 'dondo',\n",
       " 'la primavera',\n",
       " 'komsomolskiy',\n",
       " 'nautla',\n",
       " 'okhotsk',\n",
       " 'tres picos',\n",
       " 'rugeley',\n",
       " 'burnie',\n",
       " 'port moresby',\n",
       " 'brandon',\n",
       " 'kuching',\n",
       " 'adre',\n",
       " 'wahran',\n",
       " 'tahoua',\n",
       " 'bonfim',\n",
       " 'carutapera',\n",
       " 'puerto madryn',\n",
       " 'darhan',\n",
       " 'chkalovskoye',\n",
       " 'hervey bay',\n",
       " 'vicenza',\n",
       " 'farah',\n",
       " 'jiangyan',\n",
       " 'hendijan',\n",
       " 'madimba',\n",
       " 'sinnamary',\n",
       " 'koson',\n",
       " 'muravlenko',\n",
       " 'luwuk',\n",
       " 'lloydminster',\n",
       " 'namibe',\n",
       " 'istanbul',\n",
       " 'brodnica',\n",
       " 'tuatapere',\n",
       " 'udachnyy',\n",
       " 'mrirt',\n",
       " 'chernyshevsk',\n",
       " 'williams lake',\n",
       " 'minas de barroteran',\n",
       " 'mount isa',\n",
       " 'pangody',\n",
       " 'muli',\n",
       " 'lipin bor',\n",
       " 'whitehorse',\n",
       " 'bima',\n",
       " 'kot samaba',\n",
       " 'anadyr',\n",
       " 'shizunai',\n",
       " 'dickson',\n",
       " 'the valley',\n",
       " 'palabuhanratu',\n",
       " 'morondava',\n",
       " 'genhe',\n",
       " 'salinas',\n",
       " 'sungaipenuh',\n",
       " 'gorontalo',\n",
       " 'sanford',\n",
       " 'fairbanks',\n",
       " 'barao de melgaco',\n",
       " 'log',\n",
       " 'anloga',\n",
       " 'haukipudas',\n",
       " 'numan',\n",
       " 'brigantine',\n",
       " 'kachiry',\n",
       " 'gambela',\n",
       " 'bondoukou',\n",
       " 'palaiokhorion',\n",
       " 'hof',\n",
       " 'venado tuerto',\n",
       " 'banda aceh',\n",
       " 'san jeronimo',\n",
       " 'yueyang',\n",
       " 'nuqui',\n",
       " 'okha',\n",
       " 'launceston',\n",
       " 'benguela',\n",
       " 'nyangao',\n",
       " 'bengkulu',\n",
       " 'lompoc',\n",
       " 'ranong',\n",
       " 'baft',\n",
       " 'ilebo']"
      ]
     },
     "metadata": {},
     "output_type": "display_data"
    }
   ],
   "source": [
    "display(cities)"
   ]
  },
  {
   "cell_type": "markdown",
   "metadata": {},
   "source": [
    "### Perform API Calls\n",
    "* Perform a weather check on each city using a series of successive API calls.\n",
    "* Include a print log of each city as it'sbeing processed (with the city number and city name).\n"
   ]
  },
  {
   "cell_type": "code",
   "execution_count": 5,
   "metadata": {
    "ExecuteTime": {
     "end_time": "2019-09-24T22:39:32.098590Z",
     "start_time": "2019-09-24T22:36:13.615531Z"
    }
   },
   "outputs": [
    {
     "name": "stdout",
     "output_type": "stream",
     "text": [
      "Processing Record 1 | faya\n",
      "Processing Record 2 | yellowknife\n",
      "Processing Record 3 | hilo\n",
      "Processing Record 4 | ushuaia\n",
      "Processing Record 5 | chuy\n",
      "Processing Record 6 | nemuro\n",
      "Processing Record 7 | kalmunai\n",
      "Processing Record 8 | yulara\n",
      "Processing Record 9 | pandamatenga\n",
      "Processing Record 10 | georgetown\n",
      "Processing Record 11 | attawapiskat\n",
      "Not found - skipping.\n",
      "Processing Record 12 | xai-xai\n",
      "Processing Record 13 | atuona\n",
      "Processing Record 14 | jamestown\n",
      "Processing Record 15 | provideniya\n",
      "Processing Record 16 | rikitea\n",
      "Processing Record 17 | souillac\n",
      "Processing Record 18 | gasa\n",
      "Processing Record 19 | kutum\n",
      "Processing Record 20 | iqaluit\n",
      "Processing Record 21 | khatanga\n",
      "Processing Record 22 | kapaa\n",
      "Processing Record 23 | mahebourg\n",
      "Processing Record 24 | castro\n",
      "Processing Record 25 | tasiilaq\n",
      "Processing Record 26 | sentyabrskiy\n",
      "Not found - skipping.\n",
      "Processing Record 27 | grand river south east\n",
      "Not found - skipping.\n",
      "Processing Record 28 | tidore\n",
      "Not found - skipping.\n",
      "Processing Record 29 | vanino\n",
      "Processing Record 30 | wad rawah\n",
      "Processing Record 31 | busselton\n",
      "Processing Record 32 | punta arenas\n",
      "Processing Record 33 | cape town\n",
      "Processing Record 34 | lebu\n",
      "Processing Record 35 | dinsor\n",
      "Not found - skipping.\n",
      "Processing Record 36 | butaritari\n",
      "Processing Record 37 | pangnirtung\n",
      "Processing Record 38 | mataura\n",
      "Processing Record 39 | sibu\n",
      "Processing Record 40 | saint-joseph\n",
      "Processing Record 41 | narsaq\n",
      "Processing Record 42 | amnat charoen\n",
      "Processing Record 43 | avarua\n",
      "Processing Record 44 | sitka\n",
      "Processing Record 45 | benghazi\n",
      "Processing Record 46 | nosy varika\n",
      "Processing Record 47 | aranjuez\n",
      "Processing Record 48 | nikolskoye\n",
      "Processing Record 49 | kodiak\n",
      "Processing Record 50 | bethel\n",
      "Processing Record 51 | leningradskiy\n",
      "Processing Record 52 | kedougou\n",
      "Processing Record 53 | sistranda\n",
      "Processing Record 54 | lokosovo\n",
      "Processing Record 55 | jiddah\n",
      "Not found - skipping.\n",
      "Processing Record 56 | airai\n",
      "Processing Record 57 | hobart\n",
      "Processing Record 58 | baltay\n",
      "Processing Record 59 | kargasok\n",
      "Processing Record 60 | samarai\n",
      "Processing Record 61 | barra do garcas\n",
      "Processing Record 62 | klaksvik\n",
      "Processing Record 63 | vila\n",
      "Processing Record 64 | rantoul\n",
      "Processing Record 65 | east london\n",
      "Processing Record 66 | cumaribo\n",
      "Not found - skipping.\n",
      "Processing Record 67 | port alfred\n",
      "Processing Record 68 | cabo san lucas\n",
      "Processing Record 69 | saint george\n",
      "Processing Record 70 | carnarvon\n",
      "Processing Record 71 | mapimi\n",
      "Processing Record 72 | tabas\n",
      "Processing Record 73 | albany\n",
      "Processing Record 74 | touros\n",
      "Processing Record 75 | chaochou\n",
      "Not found - skipping.\n",
      "Processing Record 76 | wonthaggi\n",
      "Processing Record 77 | sarangani\n",
      "Processing Record 78 | beringovskiy\n",
      "Processing Record 79 | puerto ayora\n",
      "Processing Record 80 | sikonge\n",
      "Processing Record 81 | san andres\n",
      "Processing Record 82 | lorengau\n",
      "Processing Record 83 | burns lake\n",
      "Processing Record 84 | new norfolk\n",
      "Processing Record 85 | qaanaaq\n",
      "Processing Record 86 | norman wells\n",
      "Processing Record 87 | nordenham\n",
      "Processing Record 88 | moron\n",
      "Processing Record 89 | mar del plata\n",
      "Processing Record 90 | porto novo\n",
      "Processing Record 91 | illoqqortoormiut\n",
      "Not found - skipping.\n",
      "Processing Record 92 | esperance\n",
      "Processing Record 93 | dalbandin\n",
      "Processing Record 94 | alagoinha\n",
      "Processing Record 95 | maralal\n",
      "Processing Record 96 | pochutla\n",
      "Processing Record 97 | sao filipe\n",
      "Processing Record 98 | vaini\n",
      "Processing Record 99 | yerbogachen\n",
      "Processing Record 100 | hermanus\n",
      "Processing Record 101 | kita\n",
      "Processing Record 102 | araci\n",
      "Processing Record 103 | okahandja\n",
      "Processing Record 104 | katherine\n",
      "Processing Record 105 | tuktoyaktuk\n",
      "Processing Record 106 | puerto narino\n",
      "Processing Record 107 | pisco\n",
      "Processing Record 108 | iracoubo\n",
      "Processing Record 109 | dingle\n",
      "Processing Record 110 | dikson\n",
      "Processing Record 111 | amderma\n",
      "Not found - skipping.\n",
      "Processing Record 112 | ponta do sol\n",
      "Processing Record 113 | isangel\n",
      "Processing Record 114 | katsuura\n",
      "Processing Record 115 | alofi\n",
      "Processing Record 116 | marrakesh\n",
      "Processing Record 117 | borogontsy\n",
      "Processing Record 118 | broken hill\n",
      "Processing Record 119 | zeya\n",
      "Processing Record 120 | saint-philippe\n",
      "Processing Record 121 | tomatlan\n",
      "Processing Record 122 | burgeo\n",
      "Processing Record 123 | krasnoselkup\n",
      "Not found - skipping.\n",
      "Processing Record 124 | haines junction\n",
      "Processing Record 125 | puri\n",
      "Processing Record 126 | katsina\n",
      "Processing Record 127 | santa clara\n",
      "Processing Record 128 | grindavik\n",
      "Processing Record 129 | tumannyy\n",
      "Not found - skipping.\n",
      "Processing Record 130 | santa teresa\n",
      "Processing Record 131 | vostok\n",
      "Processing Record 132 | zyryanka\n",
      "Processing Record 133 | quincy\n",
      "Processing Record 134 | ribeira grande\n",
      "Processing Record 135 | gazanjyk\n",
      "Processing Record 136 | lagoa\n",
      "Processing Record 137 | port-gentil\n",
      "Processing Record 138 | banjar\n",
      "Processing Record 139 | dzhusaly\n",
      "Not found - skipping.\n",
      "Processing Record 140 | saint-augustin\n",
      "Processing Record 141 | ixtapa\n",
      "Processing Record 142 | mudgee\n",
      "Processing Record 143 | barentsburg\n",
      "Not found - skipping.\n",
      "Processing Record 144 | bluff\n",
      "Processing Record 145 | belushya guba\n",
      "Not found - skipping.\n",
      "Processing Record 146 | chicama\n",
      "Processing Record 147 | tsihombe\n",
      "Not found - skipping.\n",
      "Processing Record 148 | kirkuk\n",
      "Processing Record 149 | luau\n",
      "Processing Record 150 | kaitangata\n",
      "Processing Record 151 | wasilla\n",
      "Processing Record 152 | bredasdorp\n",
      "Processing Record 153 | kizema\n",
      "Processing Record 154 | lata\n",
      "Processing Record 155 | torbay\n",
      "Processing Record 156 | port elizabeth\n",
      "Processing Record 157 | alekseyevsk\n",
      "Processing Record 158 | guerrero negro\n",
      "Processing Record 159 | bolshoy tsaryn\n",
      "Not found - skipping.\n",
      "Processing Record 160 | berlevag\n",
      "Processing Record 161 | marystown\n",
      "Processing Record 162 | mirina\n",
      "Not found - skipping.\n",
      "Processing Record 163 | belmonte\n",
      "Processing Record 164 | clyde river\n",
      "Processing Record 165 | mount gambier\n",
      "Processing Record 166 | yebaishou\n",
      "Processing Record 167 | jodiya\n",
      "Processing Record 168 | uvat\n",
      "Processing Record 169 | rincon\n",
      "Processing Record 170 | fort nelson\n",
      "Processing Record 171 | bon accord\n",
      "Processing Record 172 | severo-kurilsk\n",
      "Processing Record 173 | niceville\n",
      "Processing Record 174 | qasigiannguit\n",
      "Processing Record 175 | ouadda\n",
      "Processing Record 176 | padre paraiso\n",
      "Processing Record 177 | tiksi\n",
      "Processing Record 178 | hithadhoo\n",
      "Processing Record 179 | dicabisagan\n",
      "Processing Record 180 | bilibino\n",
      "Processing Record 181 | savannah bight\n",
      "Processing Record 182 | bur gabo\n",
      "Not found - skipping.\n",
      "Processing Record 183 | santiago del estero\n",
      "Processing Record 184 | taolanaro\n",
      "Not found - skipping.\n",
      "Processing Record 185 | hurghada\n",
      "Not found - skipping.\n",
      "Processing Record 186 | nanakuli\n",
      "Processing Record 187 | aberdeen\n",
      "Processing Record 188 | vestmannaeyjar\n",
      "Processing Record 189 | fort saint john\n",
      "Not found - skipping.\n",
      "Processing Record 190 | padang\n",
      "Processing Record 191 | xining\n",
      "Processing Record 192 | upernavik\n",
      "Processing Record 193 | tenango\n",
      "Processing Record 194 | victoria\n",
      "Processing Record 195 | veraval\n",
      "Processing Record 196 | pitimbu\n",
      "Processing Record 197 | tupik\n",
      "Processing Record 198 | bandarbeyla\n",
      "Processing Record 199 | auki\n",
      "Processing Record 200 | kisanga\n",
      "Processing Record 201 | riga\n",
      "Processing Record 202 | hoxter\n",
      "Not found - skipping.\n",
      "Processing Record 203 | san quintin\n",
      "Processing Record 204 | balkhash\n",
      "Processing Record 205 | zhigansk\n",
      "Processing Record 206 | kruisfontein\n",
      "Processing Record 207 | rio grande\n",
      "Processing Record 208 | lufilufi\n",
      "Processing Record 209 | codrington\n",
      "Processing Record 210 | leshukonskoye\n",
      "Processing Record 211 | arraial do cabo\n",
      "Processing Record 212 | ciudad bolivar\n",
      "Processing Record 213 | samatau\n",
      "Not found - skipping.\n",
      "Processing Record 214 | san ramon\n",
      "Processing Record 215 | kamenskoye\n",
      "Not found - skipping.\n",
      "Processing Record 216 | nanortalik\n",
      "Processing Record 217 | kuah\n",
      "Not found - skipping.\n",
      "Processing Record 218 | oranjemund\n",
      "Processing Record 219 | makat\n",
      "Processing Record 220 | batemans bay\n",
      "Processing Record 221 | broome\n",
      "Processing Record 222 | srednekolymsk\n",
      "Processing Record 223 | luderitz\n",
      "Processing Record 224 | ayan\n",
      "Processing Record 225 | montrose\n",
      "Processing Record 226 | maningrida\n",
      "Processing Record 227 | vila velha\n",
      "Processing Record 228 | popondetta\n",
      "Processing Record 229 | buala\n",
      "Processing Record 230 | tual\n"
     ]
    },
    {
     "name": "stdout",
     "output_type": "stream",
     "text": [
      "Processing Record 231 | beyneu\n",
      "Processing Record 232 | baykit\n",
      "Processing Record 233 | tshikapa\n",
      "Processing Record 234 | nome\n",
      "Processing Record 235 | akdepe\n",
      "Processing Record 236 | sayyan\n",
      "Processing Record 237 | siguiri\n",
      "Processing Record 238 | teresina\n",
      "Processing Record 239 | topeka\n",
      "Processing Record 240 | byron bay\n",
      "Processing Record 241 | etchoropo\n",
      "Processing Record 242 | shibata\n",
      "Processing Record 243 | talnakh\n",
      "Processing Record 244 | sur\n",
      "Processing Record 245 | labuhan\n",
      "Processing Record 246 | wakkanai\n",
      "Processing Record 247 | wodonga\n",
      "Processing Record 248 | bambous virieux\n",
      "Processing Record 249 | kungurtug\n",
      "Processing Record 250 | toora-khem\n",
      "Processing Record 251 | olinda\n",
      "Processing Record 252 | perleberg\n",
      "Processing Record 253 | pemex\n",
      "Processing Record 254 | varzea grande\n",
      "Processing Record 255 | dunedin\n",
      "Processing Record 256 | cidreira\n",
      "Processing Record 257 | pevek\n",
      "Processing Record 258 | kingsville\n",
      "Processing Record 259 | medeiros neto\n",
      "Processing Record 260 | korhogo\n",
      "Processing Record 261 | zharkent\n",
      "Processing Record 262 | hostotipaquillo\n",
      "Processing Record 263 | santana\n",
      "Processing Record 264 | paso de carrasco\n",
      "Processing Record 265 | humaita\n",
      "Processing Record 266 | coihaique\n",
      "Processing Record 267 | utinga\n",
      "Processing Record 268 | catalao\n",
      "Processing Record 269 | egvekinot\n",
      "Processing Record 270 | skjaerhollen\n",
      "Not found - skipping.\n",
      "Processing Record 271 | nieves\n",
      "Processing Record 272 | umm lajj\n",
      "Processing Record 273 | ribeirao branco\n",
      "Processing Record 274 | ninohe\n",
      "Processing Record 275 | barrow\n",
      "Processing Record 276 | shahpura\n",
      "Processing Record 277 | sinnai\n",
      "Processing Record 278 | casa nova\n",
      "Processing Record 279 | tianpeng\n",
      "Processing Record 280 | constitucion\n",
      "Processing Record 281 | gold coast\n",
      "Processing Record 282 | margate\n",
      "Processing Record 283 | westport\n",
      "Processing Record 284 | ribita\n",
      "Processing Record 285 | losal\n",
      "Processing Record 286 | thompson\n",
      "Processing Record 287 | teneguiban\n",
      "Not found - skipping.\n",
      "Processing Record 288 | wajir\n",
      "Processing Record 289 | saskylakh\n",
      "Processing Record 290 | mogochin\n",
      "Not found - skipping.\n",
      "Processing Record 291 | ilulissat\n",
      "Processing Record 292 | mao\n",
      "Processing Record 293 | moussoro\n",
      "Processing Record 294 | peniche\n",
      "Processing Record 295 | henties bay\n",
      "Processing Record 296 | gongzhuling\n",
      "Processing Record 297 | srandakan\n",
      "Processing Record 298 | longyearbyen\n",
      "Processing Record 299 | kangaatsiaq\n",
      "Processing Record 300 | toamasina\n",
      "Processing Record 301 | cockburn town\n",
      "Processing Record 302 | salalah\n",
      "Processing Record 303 | ambon\n",
      "Processing Record 304 | stykkisholmur\n",
      "Processing Record 305 | saleaula\n",
      "Not found - skipping.\n",
      "Processing Record 306 | prince rupert\n",
      "Processing Record 307 | atar\n",
      "Processing Record 308 | lasa\n",
      "Processing Record 309 | cravo norte\n",
      "Processing Record 310 | katobu\n",
      "Processing Record 311 | geraldton\n",
      "Processing Record 312 | bagdarin\n",
      "Processing Record 313 | grodkow\n",
      "Processing Record 314 | itupiranga\n",
      "Processing Record 315 | saint-pierre\n",
      "Processing Record 316 | baoying\n",
      "Processing Record 317 | laguna\n",
      "Processing Record 318 | amapa\n",
      "Processing Record 319 | ahipara\n",
      "Processing Record 320 | saint anthony\n",
      "Processing Record 321 | bowen\n",
      "Processing Record 322 | sodhra\n",
      "Processing Record 323 | slave lake\n",
      "Processing Record 324 | havre-saint-pierre\n",
      "Processing Record 325 | keningau\n",
      "Processing Record 326 | ahuimanu\n",
      "Processing Record 327 | richmond\n",
      "Processing Record 328 | ahumada\n",
      "Not found - skipping.\n",
      "Processing Record 329 | strelka\n",
      "Processing Record 330 | atambua\n",
      "Processing Record 331 | menongue\n",
      "Processing Record 332 | paarl\n",
      "Processing Record 333 | eureka\n",
      "Processing Record 334 | hambantota\n",
      "Processing Record 335 | ancud\n",
      "Processing Record 336 | macaboboni\n",
      "Not found - skipping.\n",
      "Processing Record 337 | bangui\n",
      "Processing Record 338 | manoel urbano\n",
      "Processing Record 339 | gandu\n",
      "Processing Record 340 | vardo\n",
      "Processing Record 341 | guymon\n",
      "Processing Record 342 | khasan\n",
      "Processing Record 343 | daru\n",
      "Processing Record 344 | asau\n",
      "Not found - skipping.\n",
      "Processing Record 345 | palu\n",
      "Processing Record 346 | candolim\n",
      "Processing Record 347 | zheleznodorozhnyy\n",
      "Processing Record 348 | nago\n",
      "Processing Record 349 | carroll\n",
      "Processing Record 350 | skagen\n",
      "Processing Record 351 | kiruna\n",
      "Processing Record 352 | aswan\n",
      "Processing Record 353 | hamilton\n",
      "Processing Record 354 | andra\n",
      "Processing Record 355 | chapais\n",
      "Processing Record 356 | weligama\n",
      "Processing Record 357 | dhule\n",
      "Processing Record 358 | flin flon\n",
      "Processing Record 359 | rocha\n",
      "Processing Record 360 | hamina\n",
      "Processing Record 361 | kununurra\n",
      "Processing Record 362 | pouebo\n",
      "Processing Record 363 | ariquemes\n",
      "Processing Record 364 | nizhneyansk\n",
      "Not found - skipping.\n",
      "Processing Record 365 | slantsy\n",
      "Processing Record 366 | kadhan\n",
      "Processing Record 367 | mizunami\n",
      "Processing Record 368 | along\n",
      "Processing Record 369 | bani\n",
      "Processing Record 370 | beisfjord\n",
      "Processing Record 371 | namatanai\n",
      "Processing Record 372 | samusu\n",
      "Not found - skipping.\n",
      "Processing Record 373 | brufut\n",
      "Processing Record 374 | abha\n",
      "Processing Record 375 | huilong\n",
      "Processing Record 376 | los llanos de aridane\n",
      "Processing Record 377 | lavrentiya\n",
      "Processing Record 378 | jumla\n",
      "Processing Record 379 | kavieng\n",
      "Processing Record 380 | bilma\n",
      "Processing Record 381 | huambo\n",
      "Processing Record 382 | motril\n",
      "Processing Record 383 | port lincoln\n",
      "Processing Record 384 | ati\n",
      "Processing Record 385 | gopalpur\n",
      "Processing Record 386 | phan rang\n",
      "Not found - skipping.\n",
      "Processing Record 387 | nijar\n",
      "Processing Record 388 | comodoro rivadavia\n",
      "Processing Record 389 | arlit\n",
      "Processing Record 390 | landerneau\n",
      "Processing Record 391 | cervo\n",
      "Processing Record 392 | mathbaria\n",
      "Processing Record 393 | palmer\n",
      "Processing Record 394 | neryungri\n",
      "Processing Record 395 | innisfail\n",
      "Processing Record 396 | pacific grove\n",
      "Processing Record 397 | flinders\n",
      "Processing Record 398 | mys shmidta\n",
      "Not found - skipping.\n",
      "Processing Record 399 | saldanha\n",
      "Processing Record 400 | lolua\n",
      "Not found - skipping.\n",
      "Processing Record 401 | rio muerto\n",
      "Processing Record 402 | belyy yar\n",
      "Processing Record 403 | manhattan\n",
      "Processing Record 404 | tabou\n",
      "Processing Record 405 | coquimbo\n",
      "Processing Record 406 | kiama\n",
      "Processing Record 407 | alyangula\n",
      "Processing Record 408 | lagunas\n",
      "Processing Record 409 | san policarpo\n",
      "Processing Record 410 | manokwari\n",
      "Processing Record 411 | yumen\n",
      "Processing Record 412 | kaspiysk\n",
      "Processing Record 413 | vila franca do campo\n",
      "Processing Record 414 | hami\n",
      "Processing Record 415 | santa maria\n",
      "Processing Record 416 | fortuna\n",
      "Processing Record 417 | emilio carranza\n",
      "Processing Record 418 | salina cruz\n",
      "Processing Record 419 | kaeo\n",
      "Processing Record 420 | makungu\n",
      "Processing Record 421 | chokurdakh\n",
      "Processing Record 422 | gorno-chuyskiy\n",
      "Not found - skipping.\n",
      "Processing Record 423 | elizabeth city\n",
      "Processing Record 424 | boyolangu\n",
      "Processing Record 425 | biggar\n",
      "Processing Record 426 | bandundu\n",
      "Processing Record 427 | tarudant\n",
      "Not found - skipping.\n",
      "Processing Record 428 | tambul\n",
      "Not found - skipping.\n",
      "Processing Record 429 | ulverstone\n",
      "Processing Record 430 | komsomolsk\n",
      "Processing Record 431 | tazovskiy\n",
      "Processing Record 432 | kysyl-syr\n",
      "Processing Record 433 | hofn\n",
      "Processing Record 434 | aryanah\n",
      "Not found - skipping.\n",
      "Processing Record 435 | polunochnoye\n",
      "Processing Record 436 | gashua\n",
      "Processing Record 437 | blois\n",
      "Processing Record 438 | angoche\n",
      "Processing Record 439 | berdigestyakh\n",
      "Processing Record 440 | san juan\n",
      "Processing Record 441 | megion\n",
      "Processing Record 442 | cotonou\n",
      "Processing Record 443 | san cristobal\n",
      "Processing Record 444 | meulaboh\n",
      "Processing Record 445 | maunabo\n",
      "Processing Record 446 | svetlogorsk\n",
      "Processing Record 447 | alice springs\n",
      "Processing Record 448 | linares\n",
      "Processing Record 449 | astana\n",
      "Processing Record 450 | beloha\n",
      "Processing Record 451 | marzuq\n",
      "Processing Record 452 | neuruppin\n",
      "Processing Record 453 | adrar\n",
      "Processing Record 454 | chagda\n",
      "Not found - skipping.\n",
      "Processing Record 455 | vanimo\n",
      "Processing Record 456 | vaitupu\n",
      "Not found - skipping.\n",
      "Processing Record 457 | aripuana\n",
      "Processing Record 458 | presidencia roque saenz pena\n",
      "Processing Record 459 | faanui\n",
      "Processing Record 460 | aklavik\n",
      "Processing Record 461 | labytnangi\n",
      "Processing Record 462 | guanica\n",
      "Processing Record 463 | nizhniy kuranakh\n",
      "Processing Record 464 | kailua\n",
      "Processing Record 465 | ostrovnoy\n"
     ]
    },
    {
     "name": "stdout",
     "output_type": "stream",
     "text": [
      "Processing Record 466 | holme\n",
      "Processing Record 467 | jijiga\n",
      "Processing Record 468 | tura\n",
      "Processing Record 469 | navlya\n",
      "Processing Record 470 | kirkwall\n",
      "Processing Record 471 | marihatag\n",
      "Processing Record 472 | shemursha\n",
      "Processing Record 473 | donskoy\n",
      "Processing Record 474 | galgani\n",
      "Not found - skipping.\n",
      "Processing Record 475 | blackwater\n",
      "Processing Record 476 | waingapu\n",
      "Processing Record 477 | kadnikov\n",
      "Processing Record 478 | aracuai\n",
      "Processing Record 479 | atbasar\n",
      "Processing Record 480 | gillette\n",
      "Processing Record 481 | namanga\n",
      "Processing Record 482 | nador\n",
      "Processing Record 483 | tarazona\n",
      "Processing Record 484 | mmabatho\n",
      "Processing Record 485 | itapaci\n",
      "Processing Record 486 | aldan\n",
      "Processing Record 487 | camana\n",
      "Not found - skipping.\n",
      "Processing Record 488 | chilca\n",
      "Processing Record 489 | shingu\n",
      "Processing Record 490 | kindu\n",
      "Processing Record 491 | huarmey\n",
      "Processing Record 492 | kushmurun\n",
      "Not found - skipping.\n",
      "Processing Record 493 | altay\n",
      "Processing Record 494 | ambodifototra\n",
      "Not found - skipping.\n",
      "Processing Record 495 | lahaina\n",
      "Processing Record 496 | tamboril\n",
      "Processing Record 497 | cabedelo\n",
      "Processing Record 498 | bereda\n",
      "Processing Record 499 | kamenka\n",
      "Processing Record 500 | port hedland\n",
      "Processing Record 501 | temaraia\n",
      "Not found - skipping.\n",
      "Processing Record 502 | bugene\n",
      "Processing Record 503 | mitsamiouli\n",
      "Processing Record 504 | labuan\n",
      "Processing Record 505 | bathsheba\n",
      "Processing Record 506 | itamarandiba\n",
      "Processing Record 507 | husavik\n",
      "Processing Record 508 | pontianak\n",
      "Processing Record 509 | oktyabrskoye\n",
      "Processing Record 510 | cherskiy\n",
      "Processing Record 511 | dianopolis\n",
      "Not found - skipping.\n",
      "Processing Record 512 | jomalig\n",
      "Not found - skipping.\n",
      "Processing Record 513 | kenai\n",
      "Processing Record 514 | colorado springs\n",
      "Processing Record 515 | matara\n",
      "Processing Record 516 | novaya ladoga\n",
      "Processing Record 517 | erdenet\n",
      "Processing Record 518 | ust-nera\n",
      "Processing Record 519 | miri\n",
      "Processing Record 520 | coahuayana\n",
      "Processing Record 521 | wattegama\n",
      "Processing Record 522 | kolyshley\n",
      "Processing Record 523 | dondo\n",
      "Processing Record 524 | la primavera\n",
      "Processing Record 525 | komsomolskiy\n",
      "Processing Record 526 | nautla\n",
      "Processing Record 527 | okhotsk\n",
      "Processing Record 528 | tres picos\n",
      "Processing Record 529 | rugeley\n",
      "Processing Record 530 | burnie\n",
      "Processing Record 531 | port moresby\n",
      "Processing Record 532 | brandon\n",
      "Processing Record 533 | kuching\n",
      "Processing Record 534 | adre\n",
      "Processing Record 535 | wahran\n",
      "Not found - skipping.\n",
      "Processing Record 536 | tahoua\n",
      "Processing Record 537 | bonfim\n",
      "Processing Record 538 | carutapera\n",
      "Processing Record 539 | puerto madryn\n",
      "Processing Record 540 | darhan\n",
      "Processing Record 541 | chkalovskoye\n",
      "Not found - skipping.\n",
      "Processing Record 542 | hervey bay\n",
      "Processing Record 543 | vicenza\n",
      "Processing Record 544 | farah\n",
      "Processing Record 545 | jiangyan\n",
      "Processing Record 546 | hendijan\n",
      "Not found - skipping.\n",
      "Processing Record 547 | madimba\n",
      "Processing Record 548 | sinnamary\n",
      "Processing Record 549 | koson\n",
      "Processing Record 550 | muravlenko\n",
      "Processing Record 551 | luwuk\n",
      "Processing Record 552 | lloydminster\n",
      "Processing Record 553 | namibe\n",
      "Processing Record 554 | istanbul\n",
      "Processing Record 555 | brodnica\n",
      "Processing Record 556 | tuatapere\n",
      "Processing Record 557 | udachnyy\n",
      "Processing Record 558 | mrirt\n",
      "Not found - skipping.\n",
      "Processing Record 559 | chernyshevsk\n",
      "Processing Record 560 | williams lake\n",
      "Processing Record 561 | minas de barroteran\n",
      "Processing Record 562 | mount isa\n",
      "Processing Record 563 | pangody\n",
      "Processing Record 564 | muli\n",
      "Processing Record 565 | lipin bor\n",
      "Processing Record 566 | whitehorse\n",
      "Processing Record 567 | bima\n",
      "Processing Record 568 | kot samaba\n",
      "Processing Record 569 | anadyr\n",
      "Processing Record 570 | shizunai\n",
      "Processing Record 571 | dickson\n",
      "Processing Record 572 | the valley\n",
      "Processing Record 573 | palabuhanratu\n",
      "Not found - skipping.\n",
      "Processing Record 574 | morondava\n",
      "Processing Record 575 | genhe\n",
      "Processing Record 576 | salinas\n",
      "Processing Record 577 | sungaipenuh\n",
      "Processing Record 578 | gorontalo\n",
      "Processing Record 579 | sanford\n",
      "Processing Record 580 | fairbanks\n",
      "Processing Record 581 | barao de melgaco\n",
      "Processing Record 582 | log\n",
      "Processing Record 583 | anloga\n",
      "Processing Record 584 | haukipudas\n",
      "Processing Record 585 | numan\n",
      "Processing Record 586 | brigantine\n",
      "Processing Record 587 | kachiry\n",
      "Processing Record 588 | gambela\n",
      "Processing Record 589 | bondoukou\n",
      "Processing Record 590 | palaiokhorion\n",
      "Processing Record 591 | hof\n",
      "Processing Record 592 | venado tuerto\n",
      "Processing Record 593 | banda aceh\n",
      "Processing Record 594 | san jeronimo\n",
      "Processing Record 595 | yueyang\n",
      "Processing Record 596 | nuqui\n",
      "Processing Record 597 | okha\n",
      "Processing Record 598 | launceston\n",
      "Processing Record 599 | benguela\n",
      "Processing Record 600 | nyangao\n",
      "Processing Record 601 | bengkulu\n",
      "Not found - skipping.\n",
      "Processing Record 602 | lompoc\n",
      "Processing Record 603 | ranong\n",
      "Processing Record 604 | baft\n",
      "Processing Record 605 | ilebo\n"
     ]
    }
   ],
   "source": [
    "# Defining lists to contain the pulled city data.\n",
    "city_name = []\n",
    "cloudiness = []\n",
    "country = []\n",
    "date = []\n",
    "humidity = []\n",
    "lat = []\n",
    "lng = []\n",
    "max_temp = []\n",
    "wind_speed = []\n",
    "\n",
    "record = 1\n",
    "\n",
    "# Loop to return city data.\n",
    "for city in cities:\n",
    "    try:\n",
    "        response = requests.get(url + city + \"&APPID=\" + weather_api_key + \"&units=imperial\").json()\n",
    "        print(f\"Processing Record {record} | {city}\")\n",
    "        cloudiness.append(response[\"clouds\"][\"all\"])\n",
    "        country.append(response[\"sys\"][\"country\"])\n",
    "        date.append(response[\"dt\"])\n",
    "        humidity.append(response[\"main\"][\"humidity\"])\n",
    "        lat.append(response[\"coord\"][\"lat\"])\n",
    "        lng.append(response[\"coord\"][\"lon\"])\n",
    "        max_temp.append(response[\"main\"][\"temp_max\"])\n",
    "        wind_speed.append(response[\"wind\"][\"speed\"])\n",
    "        city_name.append(response[\"name\"])\n",
    "        record += 1\n",
    "    except Exception:\n",
    "        print(\"Not found - skipping.\")\n",
    "        record += 1\n"
   ]
  },
  {
   "cell_type": "markdown",
   "metadata": {},
   "source": [
    "### Convert Raw Data to DataFrame\n",
    "* Export the city data into a .csv.\n",
    "* Display the DataFrame"
   ]
  },
  {
   "cell_type": "code",
   "execution_count": 6,
   "metadata": {
    "ExecuteTime": {
     "end_time": "2019-09-24T22:39:46.737129Z",
     "start_time": "2019-09-24T22:39:46.660116Z"
    }
   },
   "outputs": [
    {
     "data": {
      "text/plain": [
       "City            548\n",
       "Country         548\n",
       "Cloudiness      548\n",
       "date            548\n",
       "Humidity        548\n",
       "Latitude        548\n",
       "Longitude       548\n",
       "Maximum Temp    548\n",
       "Wind Speed      548\n",
       "dtype: int64"
      ]
     },
     "execution_count": 6,
     "metadata": {},
     "output_type": "execute_result"
    }
   ],
   "source": [
    "df = pd.DataFrame({'City': city_name, 'Country': country, 'Cloudiness': cloudiness,'date': date,'Humidity': humidity, 'Latitude': lat, 'Longitude': lng, 'Maximum Temp': max_temp, 'Wind Speed': wind_speed})\n",
    "\n",
    "df.to_csv(\"Output/random_cities.csv\", encoding=\"utf-8\", index=False)\n",
    "\n",
    "df.count()"
   ]
  },
  {
   "cell_type": "code",
   "execution_count": 7,
   "metadata": {
    "ExecuteTime": {
     "end_time": "2019-09-24T22:39:49.662729Z",
     "start_time": "2019-09-24T22:39:49.634723Z"
    }
   },
   "outputs": [
    {
     "data": {
      "text/html": [
       "<div>\n",
       "<style scoped>\n",
       "    .dataframe tbody tr th:only-of-type {\n",
       "        vertical-align: middle;\n",
       "    }\n",
       "\n",
       "    .dataframe tbody tr th {\n",
       "        vertical-align: top;\n",
       "    }\n",
       "\n",
       "    .dataframe thead th {\n",
       "        text-align: right;\n",
       "    }\n",
       "</style>\n",
       "<table border=\"1\" class=\"dataframe\">\n",
       "  <thead>\n",
       "    <tr style=\"text-align: right;\">\n",
       "      <th></th>\n",
       "      <th>City</th>\n",
       "      <th>Country</th>\n",
       "      <th>Cloudiness</th>\n",
       "      <th>date</th>\n",
       "      <th>Humidity</th>\n",
       "      <th>Latitude</th>\n",
       "      <th>Longitude</th>\n",
       "      <th>Maximum Temp</th>\n",
       "      <th>Wind Speed</th>\n",
       "    </tr>\n",
       "  </thead>\n",
       "  <tbody>\n",
       "    <tr>\n",
       "      <th>0</th>\n",
       "      <td>Faya</td>\n",
       "      <td>SA</td>\n",
       "      <td>0</td>\n",
       "      <td>1569364574</td>\n",
       "      <td>60</td>\n",
       "      <td>18.39</td>\n",
       "      <td>42.45</td>\n",
       "      <td>69.80</td>\n",
       "      <td>2.01</td>\n",
       "    </tr>\n",
       "    <tr>\n",
       "      <th>1</th>\n",
       "      <td>Yellowknife</td>\n",
       "      <td>CA</td>\n",
       "      <td>75</td>\n",
       "      <td>1569364574</td>\n",
       "      <td>61</td>\n",
       "      <td>62.45</td>\n",
       "      <td>-114.38</td>\n",
       "      <td>46.40</td>\n",
       "      <td>14.99</td>\n",
       "    </tr>\n",
       "    <tr>\n",
       "      <th>2</th>\n",
       "      <td>Hilo</td>\n",
       "      <td>US</td>\n",
       "      <td>75</td>\n",
       "      <td>1569364575</td>\n",
       "      <td>58</td>\n",
       "      <td>19.71</td>\n",
       "      <td>-155.08</td>\n",
       "      <td>87.80</td>\n",
       "      <td>9.17</td>\n",
       "    </tr>\n",
       "    <tr>\n",
       "      <th>3</th>\n",
       "      <td>Ushuaia</td>\n",
       "      <td>AR</td>\n",
       "      <td>40</td>\n",
       "      <td>1569364556</td>\n",
       "      <td>75</td>\n",
       "      <td>-54.81</td>\n",
       "      <td>-68.31</td>\n",
       "      <td>44.60</td>\n",
       "      <td>28.86</td>\n",
       "    </tr>\n",
       "    <tr>\n",
       "      <th>4</th>\n",
       "      <td>Chuy</td>\n",
       "      <td>UY</td>\n",
       "      <td>0</td>\n",
       "      <td>1569364384</td>\n",
       "      <td>87</td>\n",
       "      <td>-33.69</td>\n",
       "      <td>-53.46</td>\n",
       "      <td>54.98</td>\n",
       "      <td>7.81</td>\n",
       "    </tr>\n",
       "  </tbody>\n",
       "</table>\n",
       "</div>"
      ],
      "text/plain": [
       "          City Country  Cloudiness        date  Humidity  Latitude  Longitude  \\\n",
       "0         Faya      SA           0  1569364574        60     18.39      42.45   \n",
       "1  Yellowknife      CA          75  1569364574        61     62.45    -114.38   \n",
       "2         Hilo      US          75  1569364575        58     19.71    -155.08   \n",
       "3      Ushuaia      AR          40  1569364556        75    -54.81     -68.31   \n",
       "4         Chuy      UY           0  1569364384        87    -33.69     -53.46   \n",
       "\n",
       "   Maximum Temp  Wind Speed  \n",
       "0         69.80        2.01  \n",
       "1         46.40       14.99  \n",
       "2         87.80        9.17  \n",
       "3         44.60       28.86  \n",
       "4         54.98        7.81  "
      ]
     },
     "execution_count": 7,
     "metadata": {},
     "output_type": "execute_result"
    }
   ],
   "source": [
    "df.head()"
   ]
  },
  {
   "cell_type": "markdown",
   "metadata": {},
   "source": [
    "### Plotting the Data\n",
    "* Use proper labeling of the plots using plot titles (including date of analysis) and axes labels.\n",
    "* Save the plotted figures as .pngs."
   ]
  },
  {
   "cell_type": "markdown",
   "metadata": {},
   "source": [
    "#### Latitude vs. Temperature Plot"
   ]
  },
  {
   "cell_type": "code",
   "execution_count": 8,
   "metadata": {
    "ExecuteTime": {
     "end_time": "2019-09-24T22:40:07.558051Z",
     "start_time": "2019-09-24T22:40:07.141951Z"
    },
    "scrolled": true
   },
   "outputs": [
    {
     "data": {
      "image/png": "[encoded data removed]",
      "text/plain": [
       "<Figure size 432x288 with 1 Axes>"
      ]
     },
     "metadata": {
      "needs_background": "light"
     },
     "output_type": "display_data"
    }
   ],
   "source": [
    "plt.scatter(df[\"Latitude\"],df[\"Maximum Temp\"],edgecolors=\"black\",facecolors=\"blue\")\n",
    "plt.grid (b=True,which=\"major\",axis=\"both\",linestyle=\"-\",color=\"lightgrey\")\n",
    "plt.title(\"City Latitude vs. Max Temperature (09/24/2019)\")\n",
    "plt.xlabel(\"Latitude\")\n",
    "plt.ylabel(\"Max Temperature (F)\")\n",
    "plt.savefig(\"Output/Fig1.png\")\n",
    "plt.show()"
   ]
  },
  {
   "cell_type": "markdown",
   "metadata": {},
   "source": [
    "#### Latitude vs. Humidity Plot"
   ]
  },
  {
   "cell_type": "code",
   "execution_count": 9,
   "metadata": {
    "ExecuteTime": {
     "end_time": "2019-09-24T22:40:11.039887Z",
     "start_time": "2019-09-24T22:40:10.678869Z"
    }
   },
   "outputs": [
    {
     "data": {
      "image/png": "[encoded data removed]",
      "text/plain": [
       "<Figure size 432x288 with 1 Axes>"
      ]
     },
     "metadata": {
      "needs_background": "light"
     },
     "output_type": "display_data"
    }
   ],
   "source": [
    "plt.scatter(df[\"Latitude\"],df[\"Humidity\"],edgecolors=\"black\",facecolors=\"blue\")\n",
    "plt.grid (b=True,which=\"major\",axis=\"both\",linestyle=\"-\",color=\"lightgrey\")\n",
    "plt.title(\"City Latitude vs. Humidity (09/24/2019)\")\n",
    "plt.xlabel(\"Latitude\")\n",
    "plt.ylabel(\"Humidity (%)\")\n",
    "plt.savefig(\"Output/Fig2.png\")\n",
    "plt.show()"
   ]
  },
  {
   "cell_type": "markdown",
   "metadata": {},
   "source": [
    "#### Latitude vs. Cloudiness Plot"
   ]
  },
  {
   "cell_type": "code",
   "execution_count": 10,
   "metadata": {
    "ExecuteTime": {
     "end_time": "2019-09-24T22:40:13.106172Z",
     "start_time": "2019-09-24T22:40:12.741165Z"
    }
   },
   "outputs": [
    {
     "data": {
      "image/png": "[encoded data removed]",
      "text/plain": [
       "<Figure size 432x288 with 1 Axes>"
      ]
     },
     "metadata": {
      "needs_background": "light"
     },
     "output_type": "display_data"
    }
   ],
   "source": [
    "plt.scatter(df[\"Latitude\"],df[\"Cloudiness\"],edgecolors=\"black\",facecolors=\"blue\")\n",
    "plt.grid (b=True,which=\"major\",axis=\"both\",linestyle=\"-\",color=\"lightgrey\")\n",
    "plt.title(\"City Latitude vs. Cloudiness (09/24/2019)\")\n",
    "plt.xlabel(\"Latitude\")\n",
    "plt.ylabel(\"Cloudiness (%)\")\n",
    "plt.savefig(\"Output/Fig3.png\")\n",
    "plt.show()"
   ]
  },
  {
   "cell_type": "markdown",
   "metadata": {},
   "source": [
    "#### Latitude vs. Wind Speed Plot"
   ]
  },
  {
   "cell_type": "code",
   "execution_count": 11,
   "metadata": {
    "ExecuteTime": {
     "end_time": "2019-09-24T22:40:15.075064Z",
     "start_time": "2019-09-24T22:40:14.725059Z"
    }
   },
   "outputs": [
    {
     "data": {
      "image/png": "[encoded data removed]",
      "text/plain": [
       "<Figure size 432x288 with 1 Axes>"
      ]
     },
     "metadata": {
      "needs_background": "light"
     },
     "output_type": "display_data"
    }
   ],
   "source": [
    "plt.scatter(df[\"Latitude\"],df[\"Wind Speed\"],edgecolors=\"black\",facecolors=\"blue\")\n",
    "plt.grid (b=True,which=\"major\",axis=\"both\",linestyle=\"-\",color=\"lightgrey\")\n",
    "plt.title(\"City Latitude vs. Wind Speed (09/24/2019)\")\n",
    "plt.xlabel(\"Latitude\")\n",
    "plt.ylabel(\"Wind Speed (MPH)\")\n",
    "plt.savefig(\"Output/Fig4.png\")\n",
    "plt.show()"
   ]
  },
  {
   "cell_type": "markdown",
   "metadata": {},
   "source": [
    "## Linear Regression"
   ]
  },
  {
   "cell_type": "code",
   "execution_count": 64,
   "metadata": {
    "ExecuteTime": {
     "end_time": "2019-09-24T23:11:09.321528Z",
     "start_time": "2019-09-24T23:11:09.312544Z"
    }
   },
   "outputs": [],
   "source": [
    "# OPTIONAL: Create a function to create Linear Regression plots\n",
    "def weather_regress(x_values, y_values):\n",
    "    (slope, intercept, rvalue, pvalue, stderr) = linregress(x_values,y_values)\n",
    "    regress_values = x_values * slope + intercept\n",
    "    line_eq = \"y = \" + str(round(slope,2)) + \"x + \" + str(round(intercept,2))\n",
    "    plt.plot(x_values,regress_values,\"r-\")\n",
    "    print(line_eq)\n",
    "    print(f\"The r-value is {rvalue}.\")"
   ]
  },
  {
   "cell_type": "code",
   "execution_count": 28,
   "metadata": {
    "ExecuteTime": {
     "end_time": "2019-09-24T22:54:42.721182Z",
     "start_time": "2019-09-24T22:54:42.711169Z"
    }
   },
   "outputs": [],
   "source": [
    "# Create Northern and Southern Hemisphere DataFrames\n",
    "north_df = df.loc[df[\"Latitude\"]>0]\n",
    "south_df = df.loc[df[\"Latitude\"]<0]"
   ]
  },
  {
   "cell_type": "markdown",
   "metadata": {},
   "source": [
    "##  Northern Hemisphere - Max Temp vs. Latitude Linear Regression\n",
    "\n",
    "#### Comments: There is a strong correlation between the temperature and the latitude."
   ]
  },
  {
   "cell_type": "code",
   "execution_count": 65,
   "metadata": {
    "ExecuteTime": {
     "end_time": "2019-09-24T23:11:11.155806Z",
     "start_time": "2019-09-24T23:11:10.822785Z"
    }
   },
   "outputs": [
    {
     "name": "stdout",
     "output_type": "stream",
     "text": [
      "y = -0.78x + 92.81\n",
      "The r-value is -0.8187552808575527.\n"
     ]
    },
    {
     "data": {
      "image/png": "[encoded data removed]",
      "text/plain": [
       "<Figure size 432x288 with 1 Axes>"
      ]
     },
     "metadata": {
      "needs_background": "light"
     },
     "output_type": "display_data"
    }
   ],
   "source": [
    "plt.scatter(north_df[\"Latitude\"],north_df[\"Maximum Temp\"],edgecolors=\"black\",facecolors=\"blue\")\n",
    "plt.xlabel(\"Latitude\")\n",
    "plt.ylabel(\"Max Temp\")\n",
    "weather_regress(north_df[\"Latitude\"],north_df[\"Maximum Temp\"])\n",
    "plt.savefig(\"Output/Fig5.png\")\n",
    "plt.show()"
   ]
  },
  {
   "cell_type": "markdown",
   "metadata": {},
   "source": [
    "####  Southern Hemisphere - Max Temp vs. Latitude Linear Regression"
   ]
  },
  {
   "cell_type": "code",
   "execution_count": 66,
   "metadata": {
    "ExecuteTime": {
     "end_time": "2019-09-24T23:11:12.446209Z",
     "start_time": "2019-09-24T23:11:12.123007Z"
    }
   },
   "outputs": [
    {
     "name": "stdout",
     "output_type": "stream",
     "text": [
      "y = 0.59x + 80.01\n",
      "The r-value is 0.7143178133293084.\n"
     ]
    },
    {
     "data": {
      "image/png": "[encoded data removed]",
      "text/plain": [
       "<Figure size 432x288 with 1 Axes>"
      ]
     },
     "metadata": {
      "needs_background": "light"
     },
     "output_type": "display_data"
    }
   ],
   "source": [
    "plt.scatter(south_df[\"Latitude\"],south_df[\"Maximum Temp\"],edgecolors=\"black\",facecolors=\"blue\")\n",
    "plt.xlabel(\"Latitude\")\n",
    "plt.ylabel(\"Max Temp\")\n",
    "weather_regress(south_df[\"Latitude\"],south_df[\"Maximum Temp\"])\n",
    "plt.savefig(\"Output/Fig6.png\")\n",
    "plt.show()"
   ]
  },
  {
   "cell_type": "markdown",
   "metadata": {},
   "source": [
    "##  Northern Hemisphere - Humidity (%) vs. Latitude Linear Regression\n",
    "\n",
    "\n",
    "#### Comments: There is a no significant correlation between humidity and latitude."
   ]
  },
  {
   "cell_type": "code",
   "execution_count": 70,
   "metadata": {
    "ExecuteTime": {
     "end_time": "2019-09-24T23:11:38.513897Z",
     "start_time": "2019-09-24T23:11:38.188874Z"
    }
   },
   "outputs": [
    {
     "name": "stdout",
     "output_type": "stream",
     "text": [
      "y = 0.15x + 65.26\n",
      "The r-value is 0.13952166645188324.\n"
     ]
    },
    {
     "data": {
      "image/png": "[encoded data removed]",
      "text/plain": [
       "<Figure size 432x288 with 1 Axes>"
      ]
     },
     "metadata": {
      "needs_background": "light"
     },
     "output_type": "display_data"
    }
   ],
   "source": [
    "plt.scatter(north_df[\"Latitude\"],north_df[\"Humidity\"],edgecolors=\"black\",facecolors=\"blue\")\n",
    "plt.xlabel(\"Latitude\")\n",
    "plt.ylabel(\"Humidity\")\n",
    "weather_regress(north_df[\"Latitude\"],north_df[\"Humidity\"])\n",
    "plt.savefig(\"Output/Fig7.png\")\n",
    "plt.show()"
   ]
  },
  {
   "cell_type": "markdown",
   "metadata": {},
   "source": [
    "####  Southern Hemisphere - Humidity (%) vs. Latitude Linear Regression"
   ]
  },
  {
   "cell_type": "code",
   "execution_count": 67,
   "metadata": {
    "ExecuteTime": {
     "end_time": "2019-09-24T23:11:13.093586Z",
     "start_time": "2019-09-24T23:11:12.749578Z"
    }
   },
   "outputs": [
    {
     "name": "stdout",
     "output_type": "stream",
     "text": [
      "y = 0.21x + 72.72\n",
      "The r-value is 0.15085634726052796.\n"
     ]
    },
    {
     "data": {
      "image/png": "[encoded data removed]",
      "text/plain": [
       "<Figure size 432x288 with 1 Axes>"
      ]
     },
     "metadata": {
      "needs_background": "light"
     },
     "output_type": "display_data"
    }
   ],
   "source": [
    "plt.scatter(south_df[\"Latitude\"],south_df[\"Humidity\"],edgecolors=\"black\",facecolors=\"blue\")\n",
    "plt.xlabel(\"Latitude\")\n",
    "plt.ylabel(\"Humidity\")\n",
    "weather_regress(south_df[\"Latitude\"],south_df[\"Humidity\"])\n",
    "plt.savefig(\"Output/Fig8.png\")\n",
    "plt.show()"
   ]
  },
  {
   "cell_type": "markdown",
   "metadata": {},
   "source": [
    "##  Northern Hemisphere - Cloudiness (%) vs. Latitude Linear Regression\n",
    "\n",
    "#### Comments: There is a no significant correlation between cloudiness and latitude."
   ]
  },
  {
   "cell_type": "code",
   "execution_count": 71,
   "metadata": {
    "ExecuteTime": {
     "end_time": "2019-09-24T23:12:12.026171Z",
     "start_time": "2019-09-24T23:12:11.684146Z"
    }
   },
   "outputs": [
    {
     "name": "stdout",
     "output_type": "stream",
     "text": [
      "y = 0.31x + 38.91\n",
      "The r-value is 0.16113026556277837.\n"
     ]
    },
    {
     "data": {
      "image/png": "[encoded data removed]",
      "text/plain": [
       "<Figure size 432x288 with 1 Axes>"
      ]
     },
     "metadata": {
      "needs_background": "light"
     },
     "output_type": "display_data"
    }
   ],
   "source": [
    "plt.scatter(north_df[\"Latitude\"],north_df[\"Cloudiness\"],edgecolors=\"black\",facecolors=\"blue\")\n",
    "plt.xlabel(\"Latitude\")\n",
    "plt.ylabel(\"Cloudiness\")\n",
    "weather_regress(north_df[\"Latitude\"],north_df[\"Cloudiness\"])\n",
    "plt.savefig(\"Output/Fig9.png\")\n",
    "plt.show()"
   ]
  },
  {
   "cell_type": "markdown",
   "metadata": {},
   "source": [
    "####  Southern Hemisphere - Cloudiness (%) vs. Latitude Linear Regression"
   ]
  },
  {
   "cell_type": "code",
   "execution_count": 68,
   "metadata": {
    "ExecuteTime": {
     "end_time": "2019-09-24T23:11:13.604634Z",
     "start_time": "2019-09-24T23:11:13.251612Z"
    }
   },
   "outputs": [
    {
     "name": "stdout",
     "output_type": "stream",
     "text": [
      "y = 0.49x + 54.97\n",
      "The r-value is 0.1908759461038856.\n"
     ]
    },
    {
     "data": {
      "image/png": "[encoded data removed]",
      "text/plain": [
       "<Figure size 432x288 with 1 Axes>"
      ]
     },
     "metadata": {
      "needs_background": "light"
     },
     "output_type": "display_data"
    }
   ],
   "source": [
    "plt.scatter(south_df[\"Latitude\"],south_df[\"Cloudiness\"],edgecolors=\"black\",facecolors=\"blue\")\n",
    "plt.xlabel(\"Latitude\")\n",
    "plt.ylabel(\"Cloudiness\")\n",
    "weather_regress(south_df[\"Latitude\"],south_df[\"Cloudiness\"])\n",
    "plt.savefig(\"Output/Fig10.png\")\n",
    "plt.show()"
   ]
  },
  {
   "cell_type": "markdown",
   "metadata": {},
   "source": [
    "##  Northern Hemisphere - Wind Speed (mph) vs. Latitude Linear Regression\n",
    "\n",
    "#### Comments: There is a no significant correlation between wind speed and latitude."
   ]
  },
  {
   "cell_type": "code",
   "execution_count": 72,
   "metadata": {
    "ExecuteTime": {
     "end_time": "2019-09-24T23:12:28.054006Z",
     "start_time": "2019-09-24T23:12:27.702982Z"
    }
   },
   "outputs": [
    {
     "name": "stdout",
     "output_type": "stream",
     "text": [
      "y = 0.06x + 5.69\n",
      "The r-value is 0.21147812132195876.\n"
     ]
    },
    {
     "data": {
      "image/png": "[encoded data removed]",
      "text/plain": [
       "<Figure size 432x288 with 1 Axes>"
      ]
     },
     "metadata": {
      "needs_background": "light"
     },
     "output_type": "display_data"
    }
   ],
   "source": [
    "plt.scatter(north_df[\"Latitude\"],north_df[\"Wind Speed\"],edgecolors=\"black\",facecolors=\"blue\")\n",
    "plt.xlabel(\"Latitude\")\n",
    "plt.ylabel(\"Wind Speed\")\n",
    "weather_regress(north_df[\"Latitude\"],north_df[\"Wind Speed\"])\n",
    "plt.savefig(\"Output/Fig11.png\")\n",
    "plt.show()"
   ]
  },
  {
   "cell_type": "markdown",
   "metadata": {},
   "source": [
    "####  Southern Hemisphere - Wind Speed (mph) vs. Latitude Linear Regression"
   ]
  },
  {
   "cell_type": "code",
   "execution_count": 69,
   "metadata": {
    "ExecuteTime": {
     "end_time": "2019-09-24T23:11:14.929959Z",
     "start_time": "2019-09-24T23:11:14.080892Z"
    }
   },
   "outputs": [
    {
     "name": "stdout",
     "output_type": "stream",
     "text": [
      "y = -0.07x + 6.7\n",
      "The r-value is -0.16938794506721386.\n"
     ]
    },
    {
     "data": {
      "image/png": "[encoded data removed]",
      "text/plain": [
       "<Figure size 432x288 with 1 Axes>"
      ]
     },
     "metadata": {
      "needs_background": "light"
     },
     "output_type": "display_data"
    }
   ],
   "source": [
    "plt.scatter(south_df[\"Latitude\"],south_df[\"Wind Speed\"],edgecolors=\"black\",facecolors=\"blue\")\n",
    "plt.xlabel(\"Latitude\")\n",
    "plt.ylabel(\"Wind Speed\")\n",
    "weather_regress(south_df[\"Latitude\"],south_df[\"Wind Speed\"])\n",
    "plt.savefig(\"Output/Fig12.png\")\n",
    "plt.show()"
   ]
  }
 ],
 "metadata": {
  "anaconda-cloud": {},
  "hide_input": false,
  "kernel_info": {
   "name": "python3"
  },
  "kernelspec": {
   "display_name": "Python 3",
   "language": "python",
   "name": "python3"
  },
  "language_info": {
   "codemirror_mode": {
    "name": "ipython",
    "version": 3
   },
   "file_extension": ".py",
   "mimetype": "text/x-python",
   "name": "python",
   "nbconvert_exporter": "python",
   "pygments_lexer": "ipython3",
   "version": "3.7.3"
  },
  "latex_envs": {
   "LaTeX_envs_menu_present": true,
   "autoclose": false,
   "autocomplete": true,
   "bibliofile": "biblio.bib",
   "cite_by": "apalike",
   "current_citInitial": 1,
   "eqLabelWithNumbers": true,
   "eqNumInitial": 1,
   "hotkeys": {
    "equation": "Ctrl-E",
    "itemize": "Ctrl-I"
   },
   "labels_anchors": false,
   "latex_user_defs": false,
   "report_style_numbering": false,
   "user_envs_cfg": false
  },
  "nteract": {
   "version": "0.12.3"
  },
  "varInspector": {
   "cols": {
    "lenName": 16,
    "lenType": 16,
    "lenVar": 40
   },
   "kernels_config": {
    "python": {
     "delete_cmd_postfix": "",
     "delete_cmd_prefix": "del ",
     "library": "var_list.py",
     "varRefreshCmd": "print(var_dic_list())"
    },
    "r": {
     "delete_cmd_postfix": ") ",
     "delete_cmd_prefix": "rm(",
     "library": "var_list.r",
     "varRefreshCmd": "cat(var_dic_list()) "
    }
   },
   "types_to_exclude": [
    "module",
    "function",
    "builtin_function_or_method",
    "instance",
    "_Feature"
   ],
   "window_display": false
  }
 },
 "nbformat": 4,
 "nbformat_minor": 2
}
