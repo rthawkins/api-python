{
 "cells": [
  {
   "cell_type": "markdown",
   "metadata": {},
   "source": [
    "# VacationPy\n",
    "----"
   ]
  },
  {
   "cell_type": "code",
   "execution_count": 1,
   "metadata": {
    "ExecuteTime": {
     "end_time": "2019-09-26T05:21:44.391502Z",
     "start_time": "2019-09-26T05:21:42.554370Z"
    }
   },
   "outputs": [],
   "source": [
    "# Dependencies and Setup\n",
    "import matplotlib.pyplot as plt\n",
    "import pandas as pd\n",
    "import numpy as np\n",
    "import requests\n",
    "import gmaps\n",
    "import os\n",
    "\n",
    "# Import API key\n",
    "from api_keys import g_key"
   ]
  },
  {
   "cell_type": "markdown",
   "metadata": {},
   "source": [
    "### Store Part I results into DataFrame\n",
    "* Load the csv exported in Part I to a DataFrame"
   ]
  },
  {
   "cell_type": "code",
   "execution_count": 2,
   "metadata": {
    "ExecuteTime": {
     "end_time": "2019-09-26T05:21:44.456508Z",
     "start_time": "2019-09-26T05:21:44.396512Z"
    }
   },
   "outputs": [
    {
     "data": {
      "text/html": [
       "<div>\n",
       "<style scoped>\n",
       "    .dataframe tbody tr th:only-of-type {\n",
       "        vertical-align: middle;\n",
       "    }\n",
       "\n",
       "    .dataframe tbody tr th {\n",
       "        vertical-align: top;\n",
       "    }\n",
       "\n",
       "    .dataframe thead th {\n",
       "        text-align: right;\n",
       "    }\n",
       "</style>\n",
       "<table border=\"1\" class=\"dataframe\">\n",
       "  <thead>\n",
       "    <tr style=\"text-align: right;\">\n",
       "      <th></th>\n",
       "      <th>City</th>\n",
       "      <th>Country</th>\n",
       "      <th>Cloudiness</th>\n",
       "      <th>date</th>\n",
       "      <th>Humidity</th>\n",
       "      <th>Latitude</th>\n",
       "      <th>Longitude</th>\n",
       "      <th>Maximum Temp</th>\n",
       "      <th>Wind Speed</th>\n",
       "    </tr>\n",
       "  </thead>\n",
       "  <tbody>\n",
       "    <tr>\n",
       "      <th>0</th>\n",
       "      <td>Faya</td>\n",
       "      <td>SA</td>\n",
       "      <td>0</td>\n",
       "      <td>1569364574</td>\n",
       "      <td>60</td>\n",
       "      <td>18.39</td>\n",
       "      <td>42.45</td>\n",
       "      <td>69.80</td>\n",
       "      <td>2.01</td>\n",
       "    </tr>\n",
       "    <tr>\n",
       "      <th>1</th>\n",
       "      <td>Yellowknife</td>\n",
       "      <td>CA</td>\n",
       "      <td>75</td>\n",
       "      <td>1569364574</td>\n",
       "      <td>61</td>\n",
       "      <td>62.45</td>\n",
       "      <td>-114.38</td>\n",
       "      <td>46.40</td>\n",
       "      <td>14.99</td>\n",
       "    </tr>\n",
       "    <tr>\n",
       "      <th>2</th>\n",
       "      <td>Hilo</td>\n",
       "      <td>US</td>\n",
       "      <td>75</td>\n",
       "      <td>1569364575</td>\n",
       "      <td>58</td>\n",
       "      <td>19.71</td>\n",
       "      <td>-155.08</td>\n",
       "      <td>87.80</td>\n",
       "      <td>9.17</td>\n",
       "    </tr>\n",
       "    <tr>\n",
       "      <th>3</th>\n",
       "      <td>Ushuaia</td>\n",
       "      <td>AR</td>\n",
       "      <td>40</td>\n",
       "      <td>1569364556</td>\n",
       "      <td>75</td>\n",
       "      <td>-54.81</td>\n",
       "      <td>-68.31</td>\n",
       "      <td>44.60</td>\n",
       "      <td>28.86</td>\n",
       "    </tr>\n",
       "    <tr>\n",
       "      <th>4</th>\n",
       "      <td>Chuy</td>\n",
       "      <td>UY</td>\n",
       "      <td>0</td>\n",
       "      <td>1569364384</td>\n",
       "      <td>87</td>\n",
       "      <td>-33.69</td>\n",
       "      <td>-53.46</td>\n",
       "      <td>54.98</td>\n",
       "      <td>7.81</td>\n",
       "    </tr>\n",
       "  </tbody>\n",
       "</table>\n",
       "</div>"
      ],
      "text/plain": [
       "          City Country  Cloudiness        date  Humidity  Latitude  Longitude  \\\n",
       "0         Faya      SA           0  1569364574        60     18.39      42.45   \n",
       "1  Yellowknife      CA          75  1569364574        61     62.45    -114.38   \n",
       "2         Hilo      US          75  1569364575        58     19.71    -155.08   \n",
       "3      Ushuaia      AR          40  1569364556        75    -54.81     -68.31   \n",
       "4         Chuy      UY           0  1569364384        87    -33.69     -53.46   \n",
       "\n",
       "   Maximum Temp  Wind Speed  \n",
       "0         69.80        2.01  \n",
       "1         46.40       14.99  \n",
       "2         87.80        9.17  \n",
       "3         44.60       28.86  \n",
       "4         54.98        7.81  "
      ]
     },
     "execution_count": 2,
     "metadata": {},
     "output_type": "execute_result"
    }
   ],
   "source": [
    "csv_path = \"random_cities.csv\"\n",
    "df = pd.read_csv(csv_path)\n",
    "\n",
    "df.head()"
   ]
  },
  {
   "cell_type": "markdown",
   "metadata": {},
   "source": [
    "### Humidity Heatmap\n",
    "* Configure gmaps.\n",
    "* Use the Lat and Lng as locations and Humidity as the weight.\n",
    "* Add Heatmap layer to map."
   ]
  },
  {
   "cell_type": "code",
   "execution_count": 3,
   "metadata": {
    "ExecuteTime": {
     "end_time": "2019-09-26T05:21:44.467512Z",
     "start_time": "2019-09-26T05:21:44.461510Z"
    }
   },
   "outputs": [],
   "source": [
    "gmaps.configure(api_key=g_key)"
   ]
  },
  {
   "cell_type": "code",
   "execution_count": 4,
   "metadata": {
    "ExecuteTime": {
     "end_time": "2019-09-26T05:21:44.564517Z",
     "start_time": "2019-09-26T05:21:44.473510Z"
    }
   },
   "outputs": [
    {
     "data": {
      "application/vnd.jupyter.widget-view+json": {
       "model_id": "8c2857938802403cb648fb2a934e22a8",
       "version_major": 2,
       "version_minor": 0
      },
      "text/plain": [
       "Figure(layout=FigureLayout(height='420px'))"
      ]
     },
     "metadata": {},
     "output_type": "display_data"
    }
   ],
   "source": [
    "# Defining variables that gmaps will use\n",
    "locations = df[[\"Latitude\", \"Longitude\"]].astype(float)\n",
    "humidity = df[\"Humidity\"].astype(float)\n",
    "\n",
    "# Centering the zoom of the maps\n",
    "fig = gmaps.figure(center=(0, 0), zoom_level=3)\n",
    "\n",
    "# Adding heat layer with weights based on humidity\n",
    "heat_layer = gmaps.heatmap_layer(locations, humidity, \n",
    "                                 dissipating=False, max_intensity=100,\n",
    "                                 point_radius = 1)\n",
    "\n",
    "fig.add_layer(heat_layer)\n",
    "\n",
    "fig"
   ]
  },
  {
   "cell_type": "markdown",
   "metadata": {},
   "source": [
    "### Create new DataFrame fitting weather criteria\n",
    "* Narrow down the cities to fit weather conditions.\n",
    "* Drop any rows will null values."
   ]
  },
  {
   "cell_type": "code",
   "execution_count": 5,
   "metadata": {
    "ExecuteTime": {
     "end_time": "2019-09-26T05:21:44.624522Z",
     "start_time": "2019-09-26T05:21:44.568518Z"
    }
   },
   "outputs": [
    {
     "data": {
      "text/html": [
       "<div>\n",
       "<style scoped>\n",
       "    .dataframe tbody tr th:only-of-type {\n",
       "        vertical-align: middle;\n",
       "    }\n",
       "\n",
       "    .dataframe tbody tr th {\n",
       "        vertical-align: top;\n",
       "    }\n",
       "\n",
       "    .dataframe thead th {\n",
       "        text-align: right;\n",
       "    }\n",
       "</style>\n",
       "<table border=\"1\" class=\"dataframe\">\n",
       "  <thead>\n",
       "    <tr style=\"text-align: right;\">\n",
       "      <th></th>\n",
       "      <th>City</th>\n",
       "      <th>Country</th>\n",
       "      <th>Cloudiness</th>\n",
       "      <th>date</th>\n",
       "      <th>Humidity</th>\n",
       "      <th>Latitude</th>\n",
       "      <th>Longitude</th>\n",
       "      <th>Maximum Temp</th>\n",
       "      <th>Wind Speed</th>\n",
       "    </tr>\n",
       "  </thead>\n",
       "  <tbody>\n",
       "    <tr>\n",
       "      <th>407</th>\n",
       "      <td>Beloha</td>\n",
       "      <td>MG</td>\n",
       "      <td>92</td>\n",
       "      <td>1569364723</td>\n",
       "      <td>78</td>\n",
       "      <td>-25.17</td>\n",
       "      <td>45.06</td>\n",
       "      <td>68.30</td>\n",
       "      <td>7.20</td>\n",
       "    </tr>\n",
       "    <tr>\n",
       "      <th>452</th>\n",
       "      <td>Bugene</td>\n",
       "      <td>TZ</td>\n",
       "      <td>85</td>\n",
       "      <td>1569364738</td>\n",
       "      <td>72</td>\n",
       "      <td>-1.59</td>\n",
       "      <td>31.14</td>\n",
       "      <td>67.22</td>\n",
       "      <td>2.91</td>\n",
       "    </tr>\n",
       "    <tr>\n",
       "      <th>185</th>\n",
       "      <td>Codrington</td>\n",
       "      <td>AU</td>\n",
       "      <td>75</td>\n",
       "      <td>1569364643</td>\n",
       "      <td>72</td>\n",
       "      <td>-28.95</td>\n",
       "      <td>153.24</td>\n",
       "      <td>68.00</td>\n",
       "      <td>4.21</td>\n",
       "    </tr>\n",
       "    <tr>\n",
       "      <th>103</th>\n",
       "      <td>Katsuura</td>\n",
       "      <td>JP</td>\n",
       "      <td>75</td>\n",
       "      <td>1569364611</td>\n",
       "      <td>73</td>\n",
       "      <td>33.93</td>\n",
       "      <td>134.50</td>\n",
       "      <td>69.80</td>\n",
       "      <td>9.17</td>\n",
       "    </tr>\n",
       "    <tr>\n",
       "      <th>296</th>\n",
       "      <td>Richmond</td>\n",
       "      <td>CA</td>\n",
       "      <td>75</td>\n",
       "      <td>1569364408</td>\n",
       "      <td>77</td>\n",
       "      <td>49.16</td>\n",
       "      <td>-123.14</td>\n",
       "      <td>66.99</td>\n",
       "      <td>9.17</td>\n",
       "    </tr>\n",
       "    <tr>\n",
       "      <th>126</th>\n",
       "      <td>Saint-Augustin</td>\n",
       "      <td>CA</td>\n",
       "      <td>90</td>\n",
       "      <td>1569364620</td>\n",
       "      <td>77</td>\n",
       "      <td>45.63</td>\n",
       "      <td>-73.98</td>\n",
       "      <td>60.80</td>\n",
       "      <td>4.70</td>\n",
       "    </tr>\n",
       "    <tr>\n",
       "      <th>117</th>\n",
       "      <td>Santa Teresa</td>\n",
       "      <td>BR</td>\n",
       "      <td>90</td>\n",
       "      <td>1569364617</td>\n",
       "      <td>77</td>\n",
       "      <td>-19.94</td>\n",
       "      <td>-40.60</td>\n",
       "      <td>68.00</td>\n",
       "      <td>4.25</td>\n",
       "    </tr>\n",
       "    <tr>\n",
       "      <th>10</th>\n",
       "      <td>Xai-Xai</td>\n",
       "      <td>MZ</td>\n",
       "      <td>79</td>\n",
       "      <td>1569364577</td>\n",
       "      <td>74</td>\n",
       "      <td>-25.04</td>\n",
       "      <td>33.64</td>\n",
       "      <td>64.70</td>\n",
       "      <td>9.62</td>\n",
       "    </tr>\n",
       "  </tbody>\n",
       "</table>\n",
       "</div>"
      ],
      "text/plain": [
       "               City Country  Cloudiness        date  Humidity  Latitude  \\\n",
       "407          Beloha      MG          92  1569364723        78    -25.17   \n",
       "452          Bugene      TZ          85  1569364738        72     -1.59   \n",
       "185      Codrington      AU          75  1569364643        72    -28.95   \n",
       "103        Katsuura      JP          75  1569364611        73     33.93   \n",
       "296        Richmond      CA          75  1569364408        77     49.16   \n",
       "126  Saint-Augustin      CA          90  1569364620        77     45.63   \n",
       "117    Santa Teresa      BR          90  1569364617        77    -19.94   \n",
       "10          Xai-Xai      MZ          79  1569364577        74    -25.04   \n",
       "\n",
       "     Longitude  Maximum Temp  Wind Speed  \n",
       "407      45.06         68.30        7.20  \n",
       "452      31.14         67.22        2.91  \n",
       "185     153.24         68.00        4.21  \n",
       "103     134.50         69.80        9.17  \n",
       "296    -123.14         66.99        9.17  \n",
       "126     -73.98         60.80        4.70  \n",
       "117     -40.60         68.00        4.25  \n",
       "10       33.64         64.70        9.62  "
      ]
     },
     "execution_count": 5,
     "metadata": {},
     "output_type": "execute_result"
    }
   ],
   "source": [
    "# I'm a Seattleite, so I'll say my ideal weather conditions are:\n",
    "#     * Between 60 and 70 degrees F\n",
    "#     * Cloudiness at least 75%\n",
    "#     * Windspeed less than 10 MPH\n",
    "#     * Humidity between 70 and 80%\n",
    "\n",
    "best_df = df.loc[(df['Maximum Temp'] >= 60) & (df['Maximum Temp'] < 70)\n",
    "                 & (df['Cloudiness'] >= 75) & (df['Wind Speed'] <= 10)\n",
    "                & (df['Humidity'] >= 70) & (df['Humidity'] < 80)]\n",
    "\n",
    "# Drop rows with null values\n",
    "best_df = best_df.dropna()\n",
    "\n",
    "# View dataframe sorted by city name\n",
    "best_df.sort_values(by=\"City\")"
   ]
  },
  {
   "cell_type": "markdown",
   "metadata": {},
   "source": [
    "### Hotel Map\n",
    "* Store into variable named `hotel_df`.\n",
    "* Add a \"Hotel Name\" column to the DataFrame.\n",
    "* Set parameters to search for hotels with 5000 meters.\n",
    "* Hit the Google Places API for each city's coordinates.\n",
    "* Store the first Hotel result into the DataFrame.\n",
    "* Plot markers on top of the heatmap."
   ]
  },
  {
   "cell_type": "code",
   "execution_count": 6,
   "metadata": {
    "ExecuteTime": {
     "end_time": "2019-09-26T05:21:44.633522Z",
     "start_time": "2019-09-26T05:21:44.628521Z"
    }
   },
   "outputs": [],
   "source": [
    "# Store into variable named hotel_df.\n",
    "hotel_df = best_df"
   ]
  },
  {
   "cell_type": "code",
   "execution_count": 7,
   "metadata": {
    "ExecuteTime": {
     "end_time": "2019-09-26T05:21:44.658524Z",
     "start_time": "2019-09-26T05:21:44.638522Z"
    }
   },
   "outputs": [],
   "source": [
    "# Add a \"Hotel Name\" column to the DataFrame. \n",
    "hotel_df[\"Hotel Name\"] = \"\""
   ]
  },
  {
   "cell_type": "code",
   "execution_count": 8,
   "metadata": {
    "ExecuteTime": {
     "end_time": "2019-09-26T05:21:51.662295Z",
     "start_time": "2019-09-26T05:21:44.668527Z"
    }
   },
   "outputs": [
    {
     "name": "stdout",
     "output_type": "stream",
     "text": [
      "Could not find nearby hotel in Katsuura.\n",
      "Could not find nearby hotel in Saint-Augustin.\n",
      "Could not find nearby hotel in Beloha.\n"
     ]
    }
   ],
   "source": [
    "# Defining parameters for Google Place API search.\n",
    "params = {\n",
    "    \"radius\": 5000,\n",
    "    \"types\": \"hotel\",\n",
    "    \"keyword\": \"hotel\",\n",
    "    \"key\": g_key\n",
    "}\n",
    "\n",
    "# Loop to identify nearby hotels via Google Place.\n",
    "for index, row in hotel_df.iterrows():\n",
    "    lat = row[\"Latitude\"]\n",
    "    lng = row[\"Longitude\"]\n",
    "\n",
    "    params[\"location\"] = f\"{lat},{lng}\"\n",
    "\n",
    "    base_url = \"https://maps.googleapis.com/maps/api/place/nearbysearch/json\"\n",
    "\n",
    "    name_address = requests.get(base_url, params=params)\n",
    "    \n",
    "\n",
    "    name_address = name_address.json()\n",
    "\n",
    "    # Check for errors\n",
    "    try:\n",
    "        best_df.loc[index, \"Hotel Name\"] = name_address[\"results\"][0][\"name\"]\n",
    "    except (KeyError, IndexError):\n",
    "    # Replace blanks with NaN, so that they can be dropped later\n",
    "        best_df.loc[index, \"Hotel Name\"] = np.nan\n",
    "        print(f\"Could not find nearby hotel in {row['City']}.\")"
   ]
  },
  {
   "cell_type": "code",
   "execution_count": 9,
   "metadata": {
    "ExecuteTime": {
     "end_time": "2019-09-26T05:21:51.702279Z",
     "start_time": "2019-09-26T05:21:51.667276Z"
    }
   },
   "outputs": [
    {
     "data": {
      "text/html": [
       "<div>\n",
       "<style scoped>\n",
       "    .dataframe tbody tr th:only-of-type {\n",
       "        vertical-align: middle;\n",
       "    }\n",
       "\n",
       "    .dataframe tbody tr th {\n",
       "        vertical-align: top;\n",
       "    }\n",
       "\n",
       "    .dataframe thead th {\n",
       "        text-align: right;\n",
       "    }\n",
       "</style>\n",
       "<table border=\"1\" class=\"dataframe\">\n",
       "  <thead>\n",
       "    <tr style=\"text-align: right;\">\n",
       "      <th></th>\n",
       "      <th>City</th>\n",
       "      <th>Country</th>\n",
       "      <th>Cloudiness</th>\n",
       "      <th>date</th>\n",
       "      <th>Humidity</th>\n",
       "      <th>Latitude</th>\n",
       "      <th>Longitude</th>\n",
       "      <th>Maximum Temp</th>\n",
       "      <th>Wind Speed</th>\n",
       "      <th>Hotel Name</th>\n",
       "    </tr>\n",
       "  </thead>\n",
       "  <tbody>\n",
       "    <tr>\n",
       "      <th>452</th>\n",
       "      <td>Bugene</td>\n",
       "      <td>TZ</td>\n",
       "      <td>85</td>\n",
       "      <td>1569364738</td>\n",
       "      <td>72</td>\n",
       "      <td>-1.59</td>\n",
       "      <td>31.14</td>\n",
       "      <td>67.22</td>\n",
       "      <td>2.91</td>\n",
       "      <td>Sunrise Annex Hotel</td>\n",
       "    </tr>\n",
       "    <tr>\n",
       "      <th>185</th>\n",
       "      <td>Codrington</td>\n",
       "      <td>AU</td>\n",
       "      <td>75</td>\n",
       "      <td>1569364643</td>\n",
       "      <td>72</td>\n",
       "      <td>-28.95</td>\n",
       "      <td>153.24</td>\n",
       "      <td>68.00</td>\n",
       "      <td>4.21</td>\n",
       "      <td>Coraki Hotel</td>\n",
       "    </tr>\n",
       "    <tr>\n",
       "      <th>296</th>\n",
       "      <td>Richmond</td>\n",
       "      <td>CA</td>\n",
       "      <td>75</td>\n",
       "      <td>1569364408</td>\n",
       "      <td>77</td>\n",
       "      <td>49.16</td>\n",
       "      <td>-123.14</td>\n",
       "      <td>66.99</td>\n",
       "      <td>9.17</td>\n",
       "      <td>Pacific Gateway Hotel at Vancouver Airport</td>\n",
       "    </tr>\n",
       "    <tr>\n",
       "      <th>117</th>\n",
       "      <td>Santa Teresa</td>\n",
       "      <td>BR</td>\n",
       "      <td>90</td>\n",
       "      <td>1569364617</td>\n",
       "      <td>77</td>\n",
       "      <td>-19.94</td>\n",
       "      <td>-40.60</td>\n",
       "      <td>68.00</td>\n",
       "      <td>4.25</td>\n",
       "      <td>Hotel Solar dos Colibris</td>\n",
       "    </tr>\n",
       "    <tr>\n",
       "      <th>10</th>\n",
       "      <td>Xai-Xai</td>\n",
       "      <td>MZ</td>\n",
       "      <td>79</td>\n",
       "      <td>1569364577</td>\n",
       "      <td>74</td>\n",
       "      <td>-25.04</td>\n",
       "      <td>33.64</td>\n",
       "      <td>64.70</td>\n",
       "      <td>9.62</td>\n",
       "      <td>Platinum Hotel</td>\n",
       "    </tr>\n",
       "  </tbody>\n",
       "</table>\n",
       "</div>"
      ],
      "text/plain": [
       "             City Country  Cloudiness        date  Humidity  Latitude  \\\n",
       "452        Bugene      TZ          85  1569364738        72     -1.59   \n",
       "185    Codrington      AU          75  1569364643        72    -28.95   \n",
       "296      Richmond      CA          75  1569364408        77     49.16   \n",
       "117  Santa Teresa      BR          90  1569364617        77    -19.94   \n",
       "10        Xai-Xai      MZ          79  1569364577        74    -25.04   \n",
       "\n",
       "     Longitude  Maximum Temp  Wind Speed  \\\n",
       "452      31.14         67.22        2.91   \n",
       "185     153.24         68.00        4.21   \n",
       "296    -123.14         66.99        9.17   \n",
       "117     -40.60         68.00        4.25   \n",
       "10       33.64         64.70        9.62   \n",
       "\n",
       "                                     Hotel Name  \n",
       "452                         Sunrise Annex Hotel  \n",
       "185                                Coraki Hotel  \n",
       "296  Pacific Gateway Hotel at Vancouver Airport  \n",
       "117                    Hotel Solar dos Colibris  \n",
       "10                               Platinum Hotel  "
      ]
     },
     "execution_count": 9,
     "metadata": {},
     "output_type": "execute_result"
    }
   ],
   "source": [
    "# Dropping rows where a hotel could not be found.\n",
    "hotel_df = hotel_df.dropna()\n",
    "\n",
    "# Check updated table\n",
    "hotel_df.sort_values(by=\"City\")"
   ]
  },
  {
   "cell_type": "code",
   "execution_count": 10,
   "metadata": {
    "ExecuteTime": {
     "end_time": "2019-09-26T05:21:51.732279Z",
     "start_time": "2019-09-26T05:21:51.706279Z"
    }
   },
   "outputs": [],
   "source": [
    "# NOTE: Do not change any of the code in this cell\n",
    "\n",
    "# Using the template add the hotel marks to the heatmap\n",
    "info_box_template = \"\"\"\n",
    "<dl>\n",
    "<dt>Name</dt><dd>{Hotel Name}</dd>\n",
    "<dt>City</dt><dd>{City}</dd>\n",
    "<dt>Country</dt><dd>{Country}</dd>\n",
    "</dl>\n",
    "\"\"\"\n",
    "# Store the DataFrame Row\n",
    "# NOTE: be sure to update with your DataFrame name\n",
    "hotel_info = [info_box_template.format(**row) for index, row in best_df.iterrows()]\n",
    "marker_locations = hotel_df[[\"Latitude\", \"Longitude\"]]"
   ]
  },
  {
   "cell_type": "code",
   "execution_count": 18,
   "metadata": {
    "ExecuteTime": {
     "end_time": "2019-09-26T05:29:33.908655Z",
     "start_time": "2019-09-26T05:29:33.840646Z"
    }
   },
   "outputs": [
    {
     "data": {
      "application/vnd.jupyter.widget-view+json": {
       "model_id": "1f038ca9e4ab44a78a9918b334347c1d",
       "version_major": 2,
       "version_minor": 0
      },
      "text/plain": [
       "Figure(layout=FigureLayout(height='420px'))"
      ]
     },
     "metadata": {},
     "output_type": "display_data"
    }
   ],
   "source": [
    "# Establishing markers for hotels\n",
    "markers = gmaps.marker_layer(marker_locations)\n",
    "\n",
    "# Adding heat layer with weights based on humidity\n",
    "heat_layer = gmaps.heatmap_layer(locations, humidity, \n",
    "                                 dissipating=False, max_intensity=100,\n",
    "                                 point_radius = 1)\n",
    "fig.add_layer(heat_layer)\n",
    "\n",
    "# Add marker layer ontop of heat map\n",
    "fig.add_layer(markers)\n",
    "\n",
    "# Centering the zoom of the maps\n",
    "fig"
   ]
  }
 ],
 "metadata": {
  "hide_input": false,
  "kernelspec": {
   "display_name": "Python 3",
   "language": "python",
   "name": "python3"
  },
  "language_info": {
   "codemirror_mode": {
    "name": "ipython",
    "version": 3
   },
   "file_extension": ".py",
   "mimetype": "text/x-python",
   "name": "python",
   "nbconvert_exporter": "python",
   "pygments_lexer": "ipython3",
   "version": "3.7.3"
  },
  "latex_envs": {
   "LaTeX_envs_menu_present": true,
   "autoclose": false,
   "autocomplete": true,
   "bibliofile": "biblio.bib",
   "cite_by": "apalike",
   "current_citInitial": 1,
   "eqLabelWithNumbers": true,
   "eqNumInitial": 1,
   "hotkeys": {
    "equation": "Ctrl-E",
    "itemize": "Ctrl-I"
   },
   "labels_anchors": false,
   "latex_user_defs": false,
   "report_style_numbering": false,
   "user_envs_cfg": false
  },
  "varInspector": {
   "cols": {
    "lenName": 16,
    "lenType": 16,
    "lenVar": 40
   },
   "kernels_config": {
    "python": {
     "delete_cmd_postfix": "",
     "delete_cmd_prefix": "del ",
     "library": "var_list.py",
     "varRefreshCmd": "print(var_dic_list())"
    },
    "r": {
     "delete_cmd_postfix": ") ",
     "delete_cmd_prefix": "rm(",
     "library": "var_list.r",
     "varRefreshCmd": "cat(var_dic_list()) "
    }
   },
   "types_to_exclude": [
    "module",
    "function",
    "builtin_function_or_method",
    "instance",
    "_Feature"
   ],
   "window_display": false
  }
 },
 "nbformat": 4,
 "nbformat_minor": 2
}
